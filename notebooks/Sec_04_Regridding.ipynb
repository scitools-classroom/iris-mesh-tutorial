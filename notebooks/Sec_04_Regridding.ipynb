{
 "cells": [
  {
   "cell_type": "markdown",
   "id": "3601edfa-7ca1-4185-9795-13f0bc10ca81",
   "metadata": {},
   "source": [
    "# Section 4: Regridding\n",
    "\n",
    "In this Section regridding between unstructured meshes and lonlat grids is explained. Let's start with some needed imports:"
   ]
  },
  {
   "cell_type": "code",
   "execution_count": null,
   "id": "9d9dcd31-7642-4c8a-8c20-60d0e608f99e",
   "metadata": {},
   "outputs": [],
   "source": [
    "from esmf_regrid.experimental.unstructured_scheme import MeshToGridESMFRegridder, GridToMeshESMFRegridder\n",
    "from iris.coords import DimCoord\n",
    "from iris.cube import Cube"
   ]
  },
  {
   "cell_type": "markdown",
   "id": "047334de-97f5-4fac-b8fb-367dbddf2e4b",
   "metadata": {},
   "source": [
    "## Example: Regridding LFRic data"
   ]
  },
  {
   "cell_type": "markdown",
   "id": "2327f207-36d8-4f3e-b871-6c5b1ccd8028",
   "metadata": {},
   "source": [
    "Suppose we need to compare data located on two different kinds of grids. One is located on a UM style \"latlon\" _grid_ and one is located on an LFRic style cubed sphere UGRID _mesh_. Data can be translated from the grid to the mesh and vice versa via _regridding_. We will demonstrate with the following files:"
   ]
  },
  {
   "cell_type": "code",
   "execution_count": null,
   "id": "e710655b-a75c-4bff-8d6b-2575cde0432c",
   "metadata": {},
   "outputs": [],
   "source": [
    "from testdata_fetching import lfric_orography, um_orography\n",
    "\n",
    "# load LFRic orography (data on unstructured mesh)\n",
    "mesh_cube = lfric_orography()\n",
    "mesh_cube"
   ]
  },
  {
   "cell_type": "code",
   "execution_count": null,
   "id": "09fecda0-07d7-4d59-9059-a2ce27448522",
   "metadata": {},
   "outputs": [],
   "source": [
    "# load UM orography (data on lonlat grid)\n",
    "grid_cube = um_orography()\n",
    "grid_cube"
   ]
  },
  {
   "cell_type": "markdown",
   "id": "b67b50e9-77c7-473d-9681-32cdf390da83",
   "metadata": {},
   "source": [
    "Regridding unstructured data is more complex than the regridders contained in Iris and requires making use of powerful libraries ([ESMF](https://earthsystemmodeling.org/)). The [iris-esmf-regrid](https://github.com/SciTools-incubator/iris-esmf-regrid/blob/main/README.md) package provides a bridge from Iris to ESMF with objects that interact directly with Iris cubes. The `MeshToGridESMFRegridder` class allows the regridding of (LFRic style) mesh cubes onto (UM style) latlon grid cubes.\n",
    "\n",
    "\n",
    "First we initialise the regridder object with a source mesh cube and target grid cube..."
   ]
  },
  {
   "cell_type": "code",
   "execution_count": null,
   "id": "fb72ce6d-0724-45da-a4d1-b004b6ce6bb5",
   "metadata": {},
   "outputs": [],
   "source": [
    "# Initialise the regridder.\n",
    "# This object can be re-used and also saved/re-loaded.\n",
    "# Note: it may take a few seconds to initialise the regridder.\n",
    "regridder = MeshToGridESMFRegridder(mesh_cube, grid_cube)"
   ]
  },
  {
   "cell_type": "markdown",
   "id": "855853f4-0a34-4d6d-b017-ede1867b2997",
   "metadata": {},
   "source": [
    "...Then we use that regridder object to translate the data onto the grid of the target cube."
   ]
  },
  {
   "cell_type": "code",
   "execution_count": null,
   "id": "c6d9036e-6c44-4926-a85f-bacd18fe37e1",
   "metadata": {},
   "outputs": [],
   "source": [
    "# Regrid the mesh cube (LFRic orography)\n",
    "regridded_orography = regridder(mesh_cube)\n",
    "regridded_orography"
   ]
  },
  {
   "cell_type": "markdown",
   "id": "59797254-e3d7-421e-a788-31ec1d21a82e",
   "metadata": {},
   "source": [
    "The reason this is done in two steps is because initialising a regridder is potentially quite expensive if the grids or meshes involved are large. Once initialised, a regridder can regrid many source cubes (defined on the same source grid/mesh) onto the same target. We can demonstrate this by regridding a different cube using the same regridder."
   ]
  },
  {
   "cell_type": "code",
   "execution_count": null,
   "id": "538abb30-d460-45a7-8398-c5fce4d4f8d6",
   "metadata": {},
   "outputs": [],
   "source": [
    "# Load an air temperature cube.\n",
    "from testdata_fetching import lfric_temp\n",
    "mesh_temp = lfric_temp()\n",
    "\n",
    "# We can check that this cube shares the same mesh.\n",
    "assert mesh_temp.mesh == mesh_cube.mesh\n",
    "\n",
    "mesh_temp"
   ]
  },
  {
   "cell_type": "code",
   "execution_count": null,
   "id": "d398cfa3-70ea-4a0c-b875-8560fb5313eb",
   "metadata": {},
   "outputs": [],
   "source": [
    "# Regrid the new mesh cube using the same regridder.\n",
    "# Note how the time coordinate is also transposed in the result.\n",
    "regridded_temperature = regridder(mesh_temp)\n",
    "regridded_temperature"
   ]
  },
  {
   "cell_type": "markdown",
   "id": "a7e33b70-0d2b-42aa-bde6-7ecc79d8fb6e",
   "metadata": {},
   "source": [
    "We can save time in future runs by saving and loading a regridder with `save_regridder` and `load_regridder`.\n",
    "\n",
    "*Note:* The information for the regridder is saved as a NetCDF file so the file name must have a `.nc` extension."
   ]
  },
  {
   "cell_type": "code",
   "execution_count": null,
   "id": "60d9028e-9d74-401d-a20f-77585ee57fdf",
   "metadata": {},
   "outputs": [],
   "source": [
    "# This code is commented for the time being to avoid generating files.\n",
    "\n",
    "# from esmf_regrid.experimental.io import load_regridder, save_regridder\n",
    "\n",
    "# save_regridder(regridder, \"lf_to_um_regridder.nc\")\n",
    "# loaded_regridder = load_regridder(\"lf_to_um_regridder.nc\")"
   ]
  },
  {
   "cell_type": "markdown",
   "id": "a6355ff5-805e-43dd-9937-93a6cabaf6e0",
   "metadata": {},
   "source": [
    "We can compare the regridded file to an equivalent file from the UM."
   ]
  },
  {
   "cell_type": "code",
   "execution_count": null,
   "id": "dafbd4e0-193d-401b-a8dd-626e0a8de88f",
   "metadata": {},
   "outputs": [],
   "source": [
    "import iris.quickplot as iqplt\n",
    "import matplotlib.pyplot as plt\n",
    "\n",
    "from testdata_fetching import um_temp\n",
    "grid_temp = um_temp()\n",
    "\n",
    "# We slice the cube to make sure it is 2D for plotting.\n",
    "iqplt.pcolormesh(grid_temp[0, 0])\n",
    "plt.gca().coastlines()\n",
    "plt.show()\n",
    "\n",
    "iqplt.pcolormesh(regridded_temperature[0, 0])\n",
    "plt.gca().coastlines()\n",
    "plt.show()"
   ]
  },
  {
   "cell_type": "markdown",
   "id": "7d50da5c-ed51-4b70-b500-9b3081b7f2c2",
   "metadata": {},
   "source": [
    "We can then plot the difference between the UM data and the data regridded from LFRic. Since all our data is now on a latlon grid we can subtract to find the difference between the regridded LFRic data and equivalent UM data and plot this with matplotlib as normal."
   ]
  },
  {
   "cell_type": "code",
   "execution_count": null,
   "id": "834c9a53-2c1c-4e85-bee2-db5ab54e42ec",
   "metadata": {},
   "outputs": [],
   "source": [
    "temp_diff = regridded_temperature - grid_temp\n",
    "temp_diff.long_name = \"Difference in temperature\"\n",
    "\n",
    "# We choose a colormap that makes it clear where the differences are.\n",
    "iqplt.pcolormesh(temp_diff[0, 0], vmin=-4,vmax=4, cmap=\"seismic\")\n",
    "plt.gca().coastlines()\n",
    "plt.show()"
   ]
  },
  {
   "cell_type": "markdown",
   "id": "8d3fa626-c0b9-4dfb-b0d8-9871b3ddf46a",
   "metadata": {},
   "source": [
    "We can also regrid from latlon grids to LFRic style meshes using `GridToMeshESMFRegridder`."
   ]
  },
  {
   "cell_type": "code",
   "execution_count": null,
   "id": "00a9ca63-726a-4eb4-b4ae-defd5e78e550",
   "metadata": {},
   "outputs": [],
   "source": [
    "# Initialise the regridder.\n",
    "g2m_regridder = GridToMeshESMFRegridder(grid_cube, mesh_cube)\n",
    "# Regrid the grid cube.\n",
    "orography_on_mesh = g2m_regridder(grid_cube)\n",
    "orography_on_mesh"
   ]
  },
  {
   "cell_type": "code",
   "execution_count": null,
   "id": "d3a56c7d-1986-4a59-82f9-3608b08816c1",
   "metadata": {},
   "outputs": [],
   "source": [
    "# Bonus task:\n",
    "# Use %%timeit to investigate how much time it takes to initialise a regridder vs applying the regridder."
   ]
  },
  {
   "cell_type": "markdown",
   "id": "cc7a8c00-1cf9-4650-a484-b800d1b22823",
   "metadata": {},
   "source": [
    "## Exercise 1: Comparing regridding methods\n",
    "\n",
    "By default, regridding uses the area weighted `conservative` method. We can also use the bilinear regridding method.\n",
    "\n",
    "**Step 1:** Use the `method=\"bilinear\"` keyword to initialise a bilinear `MeshToGridESMFRegridder` with arguments `mesh_cube` and `grid_cube`."
   ]
  },
  {
   "cell_type": "code",
   "execution_count": null,
   "id": "63a277ce-927c-4690-a402-b0fd0c96f6c9",
   "metadata": {},
   "outputs": [],
   "source": [
    "bilinear_regridder = MeshToGridESMFRegridder(mesh_cube, grid_cube, method=\"bilinear\")"
   ]
  },
  {
   "cell_type": "markdown",
   "id": "b81b7c32-b6b8-45eb-b16d-f1477e0f603b",
   "metadata": {},
   "source": [
    "**Step 2:** Use this regridder to regrid `mesh_cube`."
   ]
  },
  {
   "cell_type": "code",
   "execution_count": null,
   "id": "0ce148f3-dfdc-4a5c-9c69-c1bcc6d3b830",
   "metadata": {},
   "outputs": [],
   "source": [
    "bilinear_regridded_orography = bilinear_regridder(mesh_cube)"
   ]
  },
  {
   "cell_type": "markdown",
   "id": "5b07456d-bbc3-4e78-a3b0-031331e6e4b0",
   "metadata": {},
   "source": [
    "**Step 3:** Compare this result with the result from the default area weighted conservative regridder."
   ]
  },
  {
   "cell_type": "code",
   "execution_count": null,
   "id": "c9df6e26-9d49-441e-b6a9-77f2989457e7",
   "metadata": {},
   "outputs": [],
   "source": [
    "bilinear_diff = bilinear_regridded_orography - regridded_orography"
   ]
  },
  {
   "cell_type": "markdown",
   "id": "c3a9e586-1d02-4749-bf8e-cd6a3f920e3d",
   "metadata": {},
   "source": [
    "**Step 4:** Plot the results and the difference using `iris.quickplot` and `matplotlib`."
   ]
  },
  {
   "cell_type": "code",
   "execution_count": null,
   "id": "d994de05-42c3-44d5-a485-8666e9b88e4e",
   "metadata": {},
   "outputs": [],
   "source": [
    "import iris.quickplot as iqplt\n",
    "import matplotlib.pyplot as plt\n",
    "\n",
    "iqplt.pcolormesh(regridded_orography, cmap=\"terrain\")\n",
    "plt.show()\n",
    "iqplt.pcolormesh(bilinear_regridded_orography, cmap=\"terrain\")\n",
    "plt.show()\n",
    "bilinear_diff.long_name = \"Difference in altitude\"\n",
    "iqplt.pcolormesh(bilinear_diff, vmin=-400,vmax=400, cmap=\"seismic\")\n",
    "plt.show()"
   ]
  },
  {
   "cell_type": "code",
   "execution_count": null,
   "id": "ed3e37dd-27ef-4d4d-a753-18d1d605a36f",
   "metadata": {},
   "outputs": [],
   "source": [
    "# Bonus Exercises:\n",
    "# - calculate the difference between methods for the GridToMeshESMFRegridder.\n",
    "# - calculate the difference between raw data and data which has been round tripped.\n",
    "# (e.g. regrid from mesh to grid then from grid to mesh)\n",
    "# - demonstrate that the data in the grid file was probably a result of regridding from the mesh file."
   ]
  },
  {
   "cell_type": "markdown",
   "id": "895e457e-3f64-4aaa-9318-db972bbbba67",
   "metadata": {},
   "source": [
    "## Exercise 2: Zonal means\n",
    "\n",
    "For a latlon cube, a common operation is to collapse over longitude by taking an average. This is not possible for an LFRic style mesh cube since there is no independent longitude dimension to collapse. While it is possible to regrid to a latlon cube and then collapse, this introduces an additional step to the process. Instead, it is possible to simplify this into a single step by considering this as a regridding operation where the target cube contains multiple latitude bands.\n",
    "\n",
    "A zonal mean is the area weighted average over a defined region or sequence of regions. e.g. a band of latitude/longitude.\n",
    "Calculating zonal means can be done as a regridding operation where the zone is defined by the target cube. This can involve a target cube with a single cell or, as in this example, a number of cells along the latitude dimension.\n",
    "\n",
    "**Step 1:** Define a latitude coordinate whose bounds are `[[-90, -60], [-60, -30], [-30, 0], [0, 30], [30, 60], [60, 90]]`. Remember to set the standard name to be `\"latitude\"` and the units to be `\"degrees\"`"
   ]
  },
  {
   "cell_type": "code",
   "execution_count": null,
   "id": "4671d53e-d4ae-42b4-9608-7bd416a8d1eb",
   "metadata": {},
   "outputs": [],
   "source": [
    "lat_bands = DimCoord(\n",
    "    [-75, -45, -15, 15, 45, 75],\n",
    "    bounds=[[-90, -60], [-60, -30], [-30, 0], [0, 30], [30, 60], [60, 90]],\n",
    "    standard_name=\"latitude\",\n",
    "    units=\"degrees\"\n",
    ")"
   ]
  },
  {
   "cell_type": "markdown",
   "id": "77254bae-1ae6-4b41-b02a-964041a9527f",
   "metadata": {},
   "source": [
    "**Step 2:** Define a longitude coordinate whose bounds are `[[-180, 180]]`. Remember to set the standard name to be `\"longitude\"` and the units to be `\"degrees\"`"
   ]
  },
  {
   "cell_type": "code",
   "execution_count": null,
   "id": "e0eb804f-737a-4b6c-a469-6917e2b27087",
   "metadata": {},
   "outputs": [],
   "source": [
    "lon_full = DimCoord(0, bounds=[[-180, 180]], standard_name=\"longitude\", units=\"degrees\")"
   ]
  },
  {
   "cell_type": "markdown",
   "id": "41f2e9c7-f734-4e85-9536-8a99015f41c3",
   "metadata": {},
   "source": [
    "**Step 3:** Create a six celled cube (i.e. `Cube([[0, 0, 0, 0, 0, 0]])`) and attach the latitude and longitude coordinates to it."
   ]
  },
  {
   "cell_type": "code",
   "execution_count": null,
   "id": "6a358122-28c7-4276-90b6-9427f38cbf3c",
   "metadata": {},
   "outputs": [],
   "source": [
    "lat_band_cube = Cube([[0, 0, 0, 0, 0, 0]])\n",
    "lat_band_cube.add_dim_coord(lat_bands, 1)\n",
    "lat_band_cube.add_dim_coord(lon_full, 0)\n",
    "lat_band_cube"
   ]
  },
  {
   "cell_type": "markdown",
   "id": "48a3cc8b-29ea-4411-95cc-df6b5316f63f",
   "metadata": {},
   "source": [
    "**Step 4:** Create a regridder from `mesh_cube` to the single celled cube you created.\n",
    "\n",
    "*Note:* ESMF represents all lines as sections of great circles rather than lines of constant latitude. This means that `MeshToGridESMFRegridder` would  fail to properly handle such a large cell. We can solve this problem by using the `resolution` keyword. By providing a `resolution`, we divide each cell into as many sub-cells each bounded by the same latitude bounds.\n",
    "\n",
    "If we initialise a regridder with `MeshToGridESMFRegridder(src_mesh, tgt_grid, resolution=10)`, then the lines of latitude bounding each of the cells in `tgt_grid` will be *approximated* by 10 great circle sections.\n",
    "\n",
    "Initialise a `MeshToGridESMFRegridder` with `mesh_cube` and your single celled cube as its arguments and with a `resolution=10` keyword."
   ]
  },
  {
   "cell_type": "code",
   "execution_count": null,
   "id": "3c629318-c076-44ee-86b2-10188d5d5067",
   "metadata": {},
   "outputs": [],
   "source": [
    "lat_band_mean_calculator_10 = MeshToGridESMFRegridder(mesh_cube, lat_band_cube, resolution=10)"
   ]
  },
  {
   "cell_type": "markdown",
   "id": "c66c9fe0-d75b-4402-bcc0-ab675beb2c74",
   "metadata": {},
   "source": [
    "**Step 5:** Apply this regridder to `mesh_cube` and print the data from this result (i.e. `print(result_cube.data)`) and plot with `iqplt.pcolormesh`."
   ]
  },
  {
   "cell_type": "code",
   "execution_count": null,
   "id": "8a7a5d23-0ce6-4673-a227-25f30e96e357",
   "metadata": {},
   "outputs": [],
   "source": [
    "lat_band_mean_10 = lat_band_mean_calculator_10(mesh_cube)\n",
    "print(lat_band_mean_10.data)\n",
    "iqplt.pcolormesh(lat_band_mean_10)\n",
    "plt.gca().coastlines()\n",
    "plt.show()"
   ]
  },
  {
   "cell_type": "markdown",
   "id": "402ee42e-a85c-46e8-be48-3f53d1f1ed12",
   "metadata": {},
   "source": [
    "**Step 6:** Repeat step 4 and 5 for `resolution=100`.\n",
    "\n",
    "Note the difference in value. Also note that it takes more time to initialise a regridder with higher resolution. Higher resolutions ought to be more accurate but there is a tradeoff between performance and accuracy."
   ]
  },
  {
   "cell_type": "code",
   "execution_count": null,
   "id": "77220820-6d30-430f-bf91-e563e5311a85",
   "metadata": {},
   "outputs": [],
   "source": [
    "lat_band_mean_calculator_100 = MeshToGridESMFRegridder(mesh_cube, lat_band_cube, resolution=100)\n",
    "lat_band_mean_100 = lat_band_mean_calculator_100(mesh_cube)\n",
    "print(lat_band_mean_100.data)\n",
    "\n",
    "iqplt.pcolormesh(lat_band_mean_100)\n",
    "plt.gca().coastlines()\n",
    "plt.show()"
   ]
  },
  {
   "cell_type": "markdown",
   "id": "6b5f4e9c-f15d-4e3d-b139-0e097c42b247",
   "metadata": {},
   "source": [
    "**Step 7:** Repeat steps 1 - 6 for latitude bounds `[[-90, 90]]`, longitude bounds `[[-40, 40]]` and resolutions 2 and 10.\n",
    "\n",
    "*Note:* Unlike lines of constant latitude, lines of constant longitude are already great circle arcs.This might suggest that the `resolution` argument is unnnecessary, however these arcs are 180 degrees which ESMF is unable to represent so we still need a `resolution` of at least 2. In this case, an increase in resolution will not affect the accuracy since a resolution of 2 will already have maximum accuracy. Note how the results are the equal."
   ]
  },
  {
   "cell_type": "code",
   "execution_count": null,
   "id": "fae1a8d7-7e23-4dc6-80e8-f7e864866b10",
   "metadata": {},
   "outputs": [],
   "source": [
    "lat_full = DimCoord(0, bounds=[[-90, 90]], standard_name=\"latitude\", units=\"degrees\")\n",
    "lon_band = DimCoord(0, bounds=[[-40, 40]], standard_name=\"longitude\", units=\"degrees\")\n",
    "\n",
    "lon_band_cube = Cube([[0]])\n",
    "lon_band_cube.add_dim_coord(lat_full, 0)\n",
    "lon_band_cube.add_dim_coord(lon_band, 1)\n",
    "\n",
    "lon_band_mean_calculator_2 = MeshToGridESMFRegridder(mesh_cube, lon_band_cube, resolution=2)\n",
    "lon_band_mean_2 = lon_band_mean_calculator_2(mesh_cube)\n",
    "print(lon_band_mean_2.data)\n",
    "\n",
    "lon_band_mean_calculator_10 = MeshToGridESMFRegridder(mesh_cube, lon_band_cube, resolution=10)\n",
    "lon_band_mean_10 = lon_band_mean_calculator_10(mesh_cube)\n",
    "print(lon_band_mean_10.data)"
   ]
  },
  {
   "cell_type": "markdown",
   "id": "8412075a-3b0e-4a17-80c9-cf2de3192c63",
   "metadata": {},
   "source": [
    "## Exercise 3: Hovmoller plots\n",
    "\n",
    "If we have data on aditional dimensions, we can use the same approach as exercise 2 to produce a Hovmoller diagram. That is, if we have data that varies along time we can take the area weighted mean over latitude bands and plot the data aginst latitude and time (or similarly, we can plot against longitude and time).\n",
    "\n",
    "**Step 1:** Load a cube with humidity data using the `testdata_fetching` function `lfric_rh_alltimes_3d`."
   ]
  },
  {
   "cell_type": "code",
   "execution_count": null,
   "id": "5331317a-ef26-4915-a561-f55629a2d168",
   "metadata": {},
   "outputs": [],
   "source": [
    "from testdata_fetching import lfric_rh_alltimes_3d\n",
    "\n",
    "humidity_cube = lfric_rh_alltimes_3d()\n",
    "humidity_cube"
   ]
  },
  {
   "cell_type": "markdown",
   "id": "c6fb7bac-3d96-4ba8-abca-423d77969f14",
   "metadata": {},
   "source": [
    "**Step 2:** Create a target cube whose latitude coordinate is derived from the UM cube loaded from `um_orography` and whose longitude coordinate has bounds `[[-180, 180]]`. This can be done by slicing a cube derived from `um_orography` (using the slice `[:, :1]` so that this dimension isnt collapsed), removing the longitude coordinate and adding a longitude coordinate with bounds `[[-180, 180]]` (you can reuse the coordinate from exercise 2)."
   ]
  },
  {
   "cell_type": "code",
   "execution_count": null,
   "id": "a3feb23e-e43c-4dee-a0b1-984225e292c4",
   "metadata": {},
   "outputs": [],
   "source": [
    "target_cube_lats = grid_cube[:,:1]\n",
    "target_cube_lats.remove_coord(\"longitude\")\n",
    "target_cube_lats.add_dim_coord(lon_full, 1)\n",
    "target_cube_lats"
   ]
  },
  {
   "cell_type": "code",
   "execution_count": null,
   "id": "e5461e53-4129-440d-8660-b8a372b52ab7",
   "metadata": {},
   "outputs": [],
   "source": [
    "# We also can do the same thing for bands of constant longitude.\n",
    "\n",
    "# target_cube_lons = grid_cube[:1]\n",
    "# target_cube_lons.remove_coord(\"latitude\")\n",
    "# target_cube_lons.add_dim_coord(lat_full, 0)\n",
    "# target_cube_lons"
   ]
  },
  {
   "cell_type": "markdown",
   "id": "7237c86a-1c61-43e9-8954-876f1dcfebdd",
   "metadata": {},
   "source": [
    "**Step 3:** Create a `MeshToGridESMFRegridder` regridder from the slice of the humidity cube onto the target cube. Set the resolution keyword to 500 (this should be good balance of accuracy and performance). Use this regridder to create a resulting cube."
   ]
  },
  {
   "cell_type": "code",
   "execution_count": null,
   "id": "f2bb8a41-3344-4cf3-bcc9-5e67981355b1",
   "metadata": {},
   "outputs": [],
   "source": [
    "um_lat_band_mean_calculator = MeshToGridESMFRegridder(humidity_cube, target_cube_lats, resolution=500)\n",
    "um_lat_band_means = um_lat_band_mean_calculator(humidity_cube)\n",
    "um_lat_band_means"
   ]
  },
  {
   "cell_type": "code",
   "execution_count": null,
   "id": "7c3b0154-7be3-48ac-a3bd-ae68b414b6d1",
   "metadata": {},
   "outputs": [],
   "source": [
    "# Continuing for bands of constant longitude.\n",
    "# Note: this code takes about 2 minutes to run. I think this is due to with the way ESMF handles cells\n",
    "# with unusual shapes. See https://github.com/SciTools-incubator/iris-esmf-regrid/issues/234.\n",
    "\n",
    "# um_lon_band_mean_calculator = MeshToGridESMFRegridder(humidity_cube, target_cube_lons, resolution=2)\n",
    "# um_lon_band_means = um_lon_band_mean_calculator(humidity_cube)\n",
    "# um_lon_band_means"
   ]
  },
  {
   "cell_type": "markdown",
   "id": "cf4e2acb-8e87-47be-9a4b-81b7cbf86fa6",
   "metadata": {},
   "source": [
    "**Step 4:** Plot the data in the resulting cube. This can be done with `iqplt.pcolormesh`. Note that the resulting cube will have an unnecessary dimension which will have to be sliced (using `[:, :, 0]`). Note that extra steps can be taken to format the dates for this plot."
   ]
  },
  {
   "cell_type": "code",
   "execution_count": null,
   "id": "4762302c-33f2-466a-9330-b15501a2d4e8",
   "metadata": {},
   "outputs": [],
   "source": [
    "import matplotlib.dates as mdates\n",
    "# We use a colormap which highlights fine details.\n",
    "iqplt.pcolormesh(um_lat_band_means[:, :, 0])\n",
    "plt.gca().xaxis.set_major_formatter(mdates.DateFormatter(\"%D\"))\n",
    "plt.show()"
   ]
  },
  {
   "cell_type": "code",
   "execution_count": null,
   "id": "4f191e7c-ed12-483b-885c-3e510aab7829",
   "metadata": {},
   "outputs": [],
   "source": [
    "# Continuing for bands of constant longitude.\n",
    "\n",
    "# iqplt.pcolormesh(um_lon_band_means[:, 0])\n",
    "# plt.gca().yaxis.set_major_formatter(mdates.DateFormatter(\"%D\"))\n",
    "# plt.show()"
   ]
  },
  {
   "cell_type": "code",
   "execution_count": null,
   "id": "c11d905e-695d-4789-a071-d851e134e1f0",
   "metadata": {},
   "outputs": [],
   "source": [
    "# Bonus Exercise:\n",
    "\n",
    "# Create a regridder onto a single celled cube which represents the whole earth.\n",
    "# Use this regridder to compare how well bilinear regridding and area weighted\n",
    "# regridding preserve area weighted mean after round tripping."
   ]
  },
  {
   "cell_type": "code",
   "execution_count": null,
   "id": "6304ca25-b568-4df5-b382-3b4fbb2fffea",
   "metadata": {},
   "outputs": [],
   "source": []
  },
  {
   "cell_type": "markdown",
   "id": "4d4ea6b1-7cf3-4882-b7c7-16dce381e717",
   "metadata": {},
   "source": [
    "## Next notebook\n",
    "See the next section : [05 - Regional Extraction](./Sec_05_RegionExtraction.ipynb)"
   ]
  },
  {
   "cell_type": "code",
   "execution_count": null,
   "id": "c72c2934-fe57-4934-a193-ddfcb314dea4",
   "metadata": {},
   "outputs": [],
   "source": []
  }
 ],
 "metadata": {
  "kernelspec": {
   "display_name": "Python 3 (ipykernel)",
   "language": "python",
   "name": "python3"
  },
  "language_info": {
   "codemirror_mode": {
    "name": "ipython",
    "version": 3
   },
   "file_extension": ".py",
   "mimetype": "text/x-python",
   "name": "python",
   "nbconvert_exporter": "python",
   "pygments_lexer": "ipython3",
   "version": "3.9.16"
  }
 },
 "nbformat": 4,
 "nbformat_minor": 5
}
