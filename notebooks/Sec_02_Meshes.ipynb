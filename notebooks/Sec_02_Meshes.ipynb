{
 "cells": [
  {
   "cell_type": "markdown",
   "id": "b575ede6-8433-418a-bb04-949b0ea52abe",
   "metadata": {},
   "source": [
    "# Section 2: Mesh Concepts, and the LFRic mesh\n",
    "\n",
    "A Mesh is a way of describing spatial regions, which may also have data values associated to them.\n",
    "\n",
    "Iris uses the [UGRID](http://ugrid-conventions.github.io/ugrid-conventions/) conventions encoding standard as its basis for representing meshes.  \n",
    "UGRID is an extension of the [CF Conventions](https://cfconventions.org/Data/cf-conventions/cf-conventions-1.10/cf-conventions.html).  It prescribes a CF-compatible way of recording meshes and mesh data in NetCDF files.  \n",
    "\n",
    "We will briefly explain some UGRID concepts, and then go on to show how this looks in Iris (some of which you've already seen).  \n",
    "For a more thorough discussion, see the [Iris Mesh Data documentation pages](https://scitools-iris.readthedocs.io/en/latest/further_topics/ugrid/data_model.html#)"
   ]
  },
  {
   "cell_type": "markdown",
   "id": "9eb91b8d-1ecf-42a1-acd8-e2945f8fa9d3",
   "metadata": {
    "tags": []
   },
   "source": [
    "## Basic constructions\n",
    "\n",
    "UGRID can describe spatial **points**, **lines** and (polygonal) **faces**.  \n",
    "\n",
    "Appropriate data can be associated with any of these -- e.g. sampled values at cell corners (points), \n",
    "or average values over each cell region (faces).\n",
    "\n",
    "UGRID's permitted element types are:\n",
    "  * **node** - a point in space, defined by some M coordinate values\n",
    "  * **edge** - a line between 2 end nodes\n",
    "  * **face** - a polygon with some N nodes as its corners\n",
    "\n",
    "Thus, \"edges\" and \"faces\" are defined in terms of \"nodes\".  \n",
    "A **mesh** contains -\n",
    "  * arrays of coordinates which define its **nodes**, plus _optionally_ ..\n",
    "  * optional node-number arrays which add **edges** and/or **faces**, by listing the nodes which define them (i.e. their ends or corners)\n",
    "\n",
    "In addition, edges and faces can have associated coordinate values.\n",
    "These are independent of the nodes defining line-ends/face-vertices, and represent an additional associated\n",
    "spatial location for each element, often used to represent something like a mid-point."
   ]
  },
  {
   "cell_type": "markdown",
   "id": "03f019ca-89ff-48ab-b712-fd6a5ef9505b",
   "metadata": {
    "tags": []
   },
   "source": [
    "Extra Notes: \n",
    "  * a file can contain multiple meshes.  Each is self-contained.\n",
    "  * a file will contain a dimension mapping each component defined by a mesh,  \n",
    "    e.g. a node dimension and a face dimension.\n",
    "  * other types of component are also possible and may be present (more rarely).  \n",
    "    ( See full specs for details. )  \n"
   ]
  },
  {
   "cell_type": "markdown",
   "id": "0bcc11cf-3ba8-45d5-82f1-d2cfa392e3cf",
   "metadata": {},
   "source": [
    "### Construction of an abstract Mesh in Iris\n",
    "This is too complex to cover in detail here.  \n",
    "For those interested, this is explained in the bonus notebook [\"mesh_from_numbers.ipynb\"](./mesh_from_numbers.ipynb)."
   ]
  },
  {
   "cell_type": "markdown",
   "id": "a081493d-8587-4f90-b0e2-95ee0d1cefde",
   "metadata": {},
   "source": [
    "## Actual LFRic meshes\n",
    "\n",
    "The most common usage (at least in LFRic output), is to have a mesh which defines nodes + faces, \n",
    "plus data variables mapped to the face components.\n",
    "\n",
    "Here is an example of what that looks like ..."
   ]
  },
  {
   "cell_type": "markdown",
   "id": "74267854-e345-43ad-bc7d-cdde69f3043b",
   "metadata": {},
   "source": [
    "![Picture of nodes and faces](LFRic_mesh.svg)"
   ]
  },
  {
   "cell_type": "markdown",
   "id": "6ffd2393-1d94-47f1-b2ed-33eea856495a",
   "metadata": {},
   "source": [
    "This diagram demonstrates the relationship between face-numbers, node-numbers and node coordinates.\n",
    "Note that no _edges_ are shown here:  In UGRID, and Iris, mesh faces do not depend on edges, but are built only from nodes.\n",
    "\n",
    "Technically, the LFRic mesh is a \"**cubesphere**\".  \n",
    "  * the surface of the globe is divided into 6 equal 'panels', analagous to the 6 faces of a cube\n",
    "  * each panel is subdivided into N * N cells, giving 6.N^2 total cells\n",
    "  * the above view shows the neighbourhood of one cubesphere 'corner'\n",
    "\n",
    "**We will next load some actual LFRic data and look at how the mesh appears in Iris.**"
   ]
  },
  {
   "cell_type": "markdown",
   "id": "39769832-3d50-43f7-81a8-a4a2ea960888",
   "metadata": {},
   "source": [
    "---\n",
    "\n",
    "### Fetch some sample unstructured data\n",
    "As used in Section#01\n",
    "\n",
    "**Import the data-access routine `lfric_rh_singletime_2d` from `testdata_fetching`, and call it to get a single two-dimensional test cube.**"
   ]
  },
  {
   "cell_type": "code",
   "execution_count": 1,
   "id": "04f149fd-c8b1-46ee-b70f-3e3615d2f089",
   "metadata": {},
   "outputs": [],
   "source": [
    "import sys\n",
    "sys.path.append('/g/data/access/ngm/data/umtutorial2023/ngux/iris-mesh-tutorial/notebooks/')\n",
    "import pyvista\n",
    "pyvista.start_xvfb()\n",
    "from testdata_fetching import lfric_rh_singletime_2d\n",
    "lfric_rh = lfric_rh_singletime_2d()"
   ]
  },
  {
   "cell_type": "markdown",
   "id": "71bd8472-f9f4-489a-b8da-c046f7be191e",
   "metadata": {},
   "source": [
    "**Print the cube**"
   ]
  },
  {
   "cell_type": "code",
   "execution_count": 2,
   "id": "822377b4-7d7b-4e3b-a5d3-2876b096712d",
   "metadata": {
    "tags": []
   },
   "outputs": [
    {
     "data": {
      "text/html": [
       "\n",
       "<style>\n",
       "  a.iris {\n",
       "      text-decoration: none !important;\n",
       "  }\n",
       "  table.iris {\n",
       "      white-space: pre;\n",
       "      border: 1px solid;\n",
       "      border-color: #9c9c9c;\n",
       "      font-family: monaco, monospace;\n",
       "  }\n",
       "  th.iris {\n",
       "      background: #303f3f;\n",
       "      color: #e0e0e0;\n",
       "      border-left: 1px solid;\n",
       "      border-color: #9c9c9c;\n",
       "      font-size: 1.05em;\n",
       "      min-width: 50px;\n",
       "      max-width: 125px;\n",
       "  }\n",
       "  tr.iris :first-child {\n",
       "      border-right: 1px solid #9c9c9c !important;\n",
       "  }\n",
       "  td.iris-title {\n",
       "      background: #d5dcdf;\n",
       "      border-top: 1px solid #9c9c9c;\n",
       "      font-weight: bold;\n",
       "  }\n",
       "  .iris-word-cell {\n",
       "      text-align: left !important;\n",
       "      white-space: pre;\n",
       "  }\n",
       "  .iris-subheading-cell {\n",
       "      padding-left: 2em !important;\n",
       "  }\n",
       "  .iris-inclusion-cell {\n",
       "      padding-right: 1em !important;\n",
       "  }\n",
       "  .iris-panel-body {\n",
       "      padding-top: 0px;\n",
       "  }\n",
       "  .iris-panel-title {\n",
       "      padding-left: 3em;\n",
       "  }\n",
       "  .iris-panel-title {\n",
       "      margin-top: 7px;\n",
       "  }\n",
       "</style>\n",
       "<table class=\"iris\" id=\"139718334010032\">\n",
       "    <tr class=\"iris\">\n",
       "<th class=\"iris iris-word-cell\">Relative Humidity At Screen Level (1)</th>\n",
       "<th class=\"iris iris-word-cell\">--</th>\n",
       "</tr>\n",
       "    <tr class=\"iris\">\n",
       "<td class=\"iris-word-cell iris-subheading-cell\">Shape</td>\n",
       "<td class=\"iris iris-inclusion-cell\">13824</td>\n",
       "</tr>\n",
       "    <tr class=\"iris\">\n",
       "    <td class=\"iris-title iris-word-cell\">Mesh coordinates</td>\n",
       "    <td class=\"iris-title\"></td>\n",
       "</tr>\n",
       "<tr class=\"iris\">\n",
       "    <td class=\"iris-word-cell iris-subheading-cell\">\tlatitude</td>\n",
       "    <td class=\"iris-inclusion-cell\">x</td>\n",
       "</tr>\n",
       "<tr class=\"iris\">\n",
       "    <td class=\"iris-word-cell iris-subheading-cell\">\tlongitude</td>\n",
       "    <td class=\"iris-inclusion-cell\">x</td>\n",
       "</tr>\n",
       "<tr class=\"iris\">\n",
       "    <td class=\"iris-title iris-word-cell\">Mesh</td>\n",
       "    <td class=\"iris-title\"></td>\n",
       "</tr>\n",
       "<tr class=\"iris\">\n",
       "    <td class=\"iris-word-cell iris-subheading-cell\">\tname</td>\n",
       "    <td class=\"iris-word-cell\" colspan=\"1\">Topology data of 2D unstructured mesh</td>\n",
       "</tr>\n",
       "<tr class=\"iris\">\n",
       "    <td class=\"iris-word-cell iris-subheading-cell\">\tlocation</td>\n",
       "    <td class=\"iris-word-cell\" colspan=\"1\">face</td>\n",
       "</tr>\n",
       "<tr class=\"iris\">\n",
       "    <td class=\"iris-title iris-word-cell\">Scalar coordinates</td>\n",
       "    <td class=\"iris-title\"></td>\n",
       "</tr>\n",
       "<tr class=\"iris\">\n",
       "    <td class=\"iris-word-cell iris-subheading-cell\">\tforecast_period</td>\n",
       "    <td class=\"iris-word-cell\" colspan=\"1\">21600 seconds</td>\n",
       "</tr>\n",
       "<tr class=\"iris\">\n",
       "    <td class=\"iris-word-cell iris-subheading-cell\">\tforecast_reference_time</td>\n",
       "    <td class=\"iris-word-cell\" colspan=\"1\">2021-03-24 00:00:00</td>\n",
       "</tr>\n",
       "<tr class=\"iris\">\n",
       "    <td class=\"iris-word-cell iris-subheading-cell\">\ttime</td>\n",
       "    <td class=\"iris-word-cell\" colspan=\"1\">2021-03-24 06:00:00</td>\n",
       "</tr>\n",
       "<tr class=\"iris\">\n",
       "    <td class=\"iris-title iris-word-cell\">Cell methods</td>\n",
       "    <td class=\"iris-title\"></td>\n",
       "</tr>\n",
       "<tr class=\"iris\">\n",
       "    <td class=\"iris-word-cell iris-subheading-cell\">\tpoint</td>\n",
       "    <td class=\"iris-word-cell\" colspan=\"1\">time</td>\n",
       "</tr>\n",
       "<tr class=\"iris\">\n",
       "    <td class=\"iris-title iris-word-cell\">Attributes</td>\n",
       "    <td class=\"iris-title\"></td>\n",
       "</tr>\n",
       "<tr class=\"iris\">\n",
       "    <td class=\"iris-word-cell iris-subheading-cell\">\tConventions</td>\n",
       "    <td class=\"iris-word-cell\" colspan=\"1\">&#x27;CF-1.7&#x27;</td>\n",
       "</tr>\n",
       "<tr class=\"iris\">\n",
       "    <td class=\"iris-word-cell iris-subheading-cell\">\tdescription</td>\n",
       "    <td class=\"iris-word-cell\" colspan=\"1\">&#x27;Created by xios&#x27;</td>\n",
       "</tr>\n",
       "<tr class=\"iris\">\n",
       "    <td class=\"iris-word-cell iris-subheading-cell\">\tinterval_operation</td>\n",
       "    <td class=\"iris-word-cell\" colspan=\"1\">&#x27;6 h&#x27;</td>\n",
       "</tr>\n",
       "<tr class=\"iris\">\n",
       "    <td class=\"iris-word-cell iris-subheading-cell\">\tinterval_write</td>\n",
       "    <td class=\"iris-word-cell\" colspan=\"1\">&#x27;6 h&#x27;</td>\n",
       "</tr>\n",
       "<tr class=\"iris\">\n",
       "    <td class=\"iris-word-cell iris-subheading-cell\">\tonline_operation</td>\n",
       "    <td class=\"iris-word-cell\" colspan=\"1\">&#x27;instant&#x27;</td>\n",
       "</tr>\n",
       "<tr class=\"iris\">\n",
       "    <td class=\"iris-word-cell iris-subheading-cell\">\ttitle</td>\n",
       "    <td class=\"iris-word-cell\" colspan=\"1\">&#x27;Created by xios&#x27;</td>\n",
       "</tr>\n",
       "</table>\n",
       "        "
      ],
      "text/plain": [
       "<iris 'Cube' of relative_humidity_at_screen_level / (1) (-- : 13824)>"
      ]
     },
     "execution_count": 2,
     "metadata": {},
     "output_type": "execute_result"
    }
   ],
   "source": [
    "lfric_rh"
   ]
  },
  {
   "cell_type": "markdown",
   "id": "406f8d56-f604-4792-b96c-667315a094fe",
   "metadata": {},
   "source": [
    "### What is special about \"mesh cubes\" ?\n",
    "\n",
    "Compare the above to some UM data (e.g. `testdata_fetching.um_temp()`).\n",
    "\n",
    "You should find that an 'unstructured' cube has some extra properties: `cube.mesh`, `cube.location` and `cube.mesh_dim()`  \n"
   ]
  },
  {
   "cell_type": "code",
   "execution_count": 3,
   "id": "0a4b655b-5c59-4f1c-9fd7-9b1a6be06989",
   "metadata": {},
   "outputs": [
    {
     "name": "stdout",
     "output_type": "stream",
     "text": [
      "cube.mesh :\n",
      "Mesh : 'Topology data of 2D unstructured mesh'\n",
      "    topology_dimension: 2\n",
      "    node\n",
      "        node_dimension: 'nMesh2d_node'\n",
      "        node coordinates\n",
      "            <AuxCoord: longitude / (degrees)  <lazy>  shape(13826,)>\n",
      "            <AuxCoord: latitude / (degrees)  <lazy>  shape(13826,)>\n",
      "    edge\n",
      "        edge_dimension: 'nMesh2d_edge'\n",
      "        edge_node_connectivity: <Connectivity: Maps every edge/link to two nodes that it connects. / (unknown)  <lazy>  shape(27648, 2)>\n",
      "        edge coordinates\n",
      "            <AuxCoord: longitude / (degrees)  <lazy>  shape(27648,)>\n",
      "            <AuxCoord: latitude / (degrees)  <lazy>  shape(27648,)>\n",
      "    face\n",
      "        face_dimension: 'nMesh2d_face'\n",
      "        face_node_connectivity: <Connectivity: Maps every face to its corner nodes. / (unknown)  <lazy>  shape(13824, 4)>\n",
      "        face coordinates\n",
      "            <AuxCoord: longitude / (degrees)  <lazy>  shape(13824,)>\n",
      "            <AuxCoord: latitude / (degrees)  <lazy>  shape(13824,)>\n",
      "    long_name: 'Topology data of 2D unstructured mesh'\n",
      "    var_name: 'Mesh2d'\n",
      "\n",
      "-------\n",
      "cube.location =  face\n",
      "0\n",
      "\n",
      "-------\n",
      "Help on method mesh_dim in module iris.cube:\n",
      "\n",
      "mesh_dim() method of iris.cube.Cube instance\n",
      "    Return the cube dimension of the mesh, if the cube has any\n",
      "    :class:`~iris.experimental.ugrid.MeshCoord`\\ s,\n",
      "    or ``None`` if it has none.\n",
      "    \n",
      "    Returns:\n",
      "    \n",
      "    * mesh_dim (int, or None):\n",
      "        the cube dimension which the cube\n",
      "        :class:`~iris.experimental.ugrid.MeshCoord`\\s map to,\n",
      "        or ``None``.\n",
      "\n",
      "cube.mesh_dim() =  0\n"
     ]
    }
   ],
   "source": [
    "print(\"cube.mesh :\")\n",
    "print(lfric_rh.mesh)\n",
    "print(\"\\n-------\")\n",
    "print(\"cube.location = \", lfric_rh.location)\n",
    "print(lfric_rh.mesh_dim())\n",
    "print(\"\\n-------\")\n",
    "help(lfric_rh.mesh_dim)\n",
    "print(\"cube.mesh_dim() = \", lfric_rh.mesh_dim())"
   ]
  },
  {
   "cell_type": "markdown",
   "id": "a24e61ea-6746-40af-a9df-850543587d29",
   "metadata": {},
   "source": [
    "---\n",
    "**Additional Note:**  \n",
    "As previously mentioned, every Iris mesh cube has a \"mesh dimension\".\n",
    "This is often the last cube dimension, and is typically \"anonymous\" -- i.e. it has no dimension coordinate."
   ]
  },
  {
   "cell_type": "markdown",
   "id": "f349fe5c-841c-48c7-a577-7090d2389a23",
   "metadata": {},
   "source": [
    "## Details of the Iris mesh content\n",
    "\n",
    "Exactly ***how*** Iris represents a mesh is not usually very relevant to working with cube data in Iris, nor to plotting it with PyVista.  \n",
    "So that is beyond the scope of an introductory tutorial.  \n",
    "\n",
    "However, for those interested, there is a bonus notebook showing some of this : [\"Mesh_Connectivities_demo.ipynb\"](./Mesh_Connectivities_demo.ipynb)\n"
   ]
  },
  {
   "cell_type": "markdown",
   "id": "2dcf5430-e723-4cc3-a6e0-7d6c70667dc8",
   "metadata": {
    "tags": []
   },
   "source": [
    "---\n",
    "\n",
    "## Exercises: mesh data\n",
    "\n",
    "### Ex.1: How to check whether a cube has structured or mesh-based data"
   ]
  },
  {
   "cell_type": "code",
   "execution_count": 4,
   "id": "d8f6a26c-a068-4b8b-8f3e-72ce92218197",
   "metadata": {
    "tags": []
   },
   "outputs": [],
   "source": [
    "# ... space for user solution ..."
   ]
  },
  {
   "cell_type": "code",
   "execution_count": 5,
   "id": "5baeab09-489b-40be-89a5-a770049a6b5f",
   "metadata": {
    "tags": []
   },
   "outputs": [
    {
     "name": "stdout",
     "output_type": "stream",
     "text": [
      "Cube:  <iris 'Cube' of air_potential_temperature / (K) (time: 7; grid_latitude: 9; grid_longitude: 11)> \n",
      "  - is_meshcube ? False\n",
      "\n",
      "Cube:  <iris 'Cube' of mesh_phenom / (unknown) (level: 2; i_mesh_face: 3)> \n",
      "  - is_meshcube ? True\n"
     ]
    }
   ],
   "source": [
    "#\n",
    "# SAMPLE CODE SOLUTION\n",
    "#\n",
    "\n",
    "\n",
    "# Utility Function\n",
    "#\n",
    "def is_meshcube(cube):\n",
    "    return cube.mesh is not None\n",
    "\n",
    "#-------------------------------\n",
    "### Testing ...\n",
    "#\n",
    "from iris.tests.stock import realistic_3d\n",
    "nonmesh_cube = realistic_3d()\n",
    "print('Cube: ', repr(nonmesh_cube), '\\n  - is_meshcube ?', is_meshcube(nonmesh_cube))\n",
    "\n",
    "print()\n",
    "from iris.tests.stock.mesh import sample_mesh_cube\n",
    "mesh_cube = sample_mesh_cube()\n",
    "print('Cube: ', repr(mesh_cube), '\\n  - is_meshcube ?', is_meshcube(mesh_cube))"
   ]
  },
  {
   "cell_type": "markdown",
   "id": "ec4205fb-4781-4482-ad58-973363d22a09",
   "metadata": {
    "tags": []
   },
   "source": [
    "---\n",
    "***try this also*** with the 'lfric_rh' cube"
   ]
  },
  {
   "cell_type": "code",
   "execution_count": null,
   "id": "9383b468-0b0c-4f88-a6bd-02f7a497191c",
   "metadata": {},
   "outputs": [],
   "source": []
  },
  {
   "cell_type": "markdown",
   "id": "8da05716-786e-46c0-a441-e952a0302f4c",
   "metadata": {},
   "source": [
    "### Question: what is `cube.mesh_dim` for ?"
   ]
  },
  {
   "cell_type": "markdown",
   "id": "cdf550dc-89d8-4394-8171-f91ad1547f6b",
   "metadata": {},
   "source": [
    "<details><summary>Sample Answer: <b>click to reveal</b></summary>\n",
    "It is a function which you call, returning an integer.\n",
    "<br/>The result tells you which cube dimension is the mesh dimension  -- that is, the cube dimension which indexes the individual elements of the mesh\n",
    "\n",
    "See [Iris API docs for `Cube.mesh_dim`](https://scitools-iris.readthedocs.io/en/latest/generated/api/iris/cube.html#iris.cube.Cube.mesh_dim)\n",
    "\n",
    "</details>"
   ]
  },
  {
   "cell_type": "markdown",
   "id": "d888467d-d962-4de3-b895-f6e923610ce6",
   "metadata": {},
   "source": [
    "### Question: what does `cube.location` mean ?\n",
    "\n",
    "<details><summary>Sample answer: <b>click to reveal</b></summary>\n",
    "It returns a string, \"node\", \"edge\" or \"face\", indicating the type of mesh element which the cube data is mapped to.\n",
    "\n",
    "See in [Iris \"Mesh Support\" docs](https://scitools-iris.readthedocs.io/en/latest/further_topics/ugrid/data_model.html?highlight=location#the-basics)\n",
    "\n",
    "</details>"
   ]
  },
  {
   "cell_type": "markdown",
   "id": "7dab4dfd-ab11-47ca-b368-4aa3d37321ea",
   "metadata": {},
   "source": [
    "### Additional questions to consider ...\n",
    "\n",
    "  * what does `cube.mesh_dim` do when a cube *has* no mesh ?\n",
    "        <details><summary>Sample answer: <b>click to reveal</b></summary>\n",
    "    It returns `None`.\n",
    "    </details>\n",
    "  * what happens if there is more than one mesh, or mesh dimension ?\n",
    "    <details><summary>Sample answer: <b>click to reveal</b></summary>\n",
    "    A bit of a \"trick question\" !  \n",
    "    </br>In UGRID, a data-variable can have at most <i>one</i> location and mesh.  Therefore, since each Iris cube represents a CF data-variable, it can only have one mesh, and one mesh dimension -- that of its location in the mesh.\n",
    "    </details>"
   ]
  },
  {
   "cell_type": "markdown",
   "id": "4e96a9b0-1e62-47a3-b565-c6da620f7f7e",
   "metadata": {},
   "source": [
    "## Next notebook\n",
    "See the next section: [03 - Plotting and Visualisation](./Sec_03_Plotting.ipynb)"
   ]
  },
  {
   "cell_type": "code",
   "execution_count": null,
   "id": "12005e21-9a61-44a2-85c1-01d11da5ade3",
   "metadata": {},
   "outputs": [],
   "source": []
  }
 ],
 "metadata": {
  "kernelspec": {
   "display_name": "Python 3 (ipykernel)",
   "language": "python",
   "name": "python3"
  },
  "language_info": {
   "codemirror_mode": {
    "name": "ipython",
    "version": 3
   },
   "file_extension": ".py",
   "mimetype": "text/x-python",
   "name": "python",
   "nbconvert_exporter": "python",
   "pygments_lexer": "ipython3",
   "version": "3.9.16"
  },
  "toc-autonumbering": true,
  "toc-showmarkdowntxt": false
 },
 "nbformat": 4,
 "nbformat_minor": 5
}
