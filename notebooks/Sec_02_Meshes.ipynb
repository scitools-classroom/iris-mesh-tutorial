{
 "cells": [
  {
   "cell_type": "markdown",
   "id": "b575ede6-8433-418a-bb04-949b0ea52abe",
   "metadata": {},
   "source": [
    "# Section 2: Mesh Concepts, and the LFRic mesh\n",
    "\n",
    "A Mesh is a way of describing spatial regions, which may also have data values associated to them. Iris uses the [UGRID](http://ugrid-conventions.github.io/ugrid-conventions/) conventions encoding standard as its basis for representing meshes. UGRID is an extension of the [CF Conventions](https://cfconventions.org/Data/cf-conventions/cf-conventions-1.10/cf-conventions.html).  It prescribes a CF-compatible way of recording meshes and mesh data in NetCDF files.  \n",
    "\n",
    "We will briefly explain some UGRID concepts, and then go on to show how this looks in Iris (some of which you've already seen).  \n",
    "For a more thorough discussion, see the [Iris Mesh Data documentation pages](https://scitools-iris.readthedocs.io/en/latest/further_topics/ugrid/data_model.html#)"
   ]
  },
  {
   "cell_type": "markdown",
   "id": "0b0ab46c-9331-4a8c-855a-f9442ec7f6e0",
   "metadata": {
    "tags": []
   },
   "source": [
    "## Basic constructions\n",
    "\n",
    "UGRID can describe spatial **points**, **lines** and (polygonal) **faces**. Appropriate data can be associated with any of these, e.g. sampled values at cell corners (points), or average values over each cell region (faces). UGRID's permitted element types are:\n",
    "  * **node** - a point in space, defined by some M coordinate values\n",
    "  * **edge** - a line between 2 end nodes\n",
    "  * **face** - a polygon with some N nodes as its corners\n",
    "\n",
    "Thus, \"edges\" and \"faces\" are defined in terms of \"nodes\".\n",
    "\n",
    "A **mesh** contains\n",
    "  * arrays of coordinates which define its **nodes**\n",
    "  * optional node-number arrays which add **edges** and/or **faces**, by listing the nodes which define them (i.e. their ends or corners)\n",
    "\n",
    "Edges and faces can have associated coordinate values.\n",
    "These are independent of the nodes defining line-ends/face-vertices, and represent an additional associated\n",
    "spatial location for each element, often used to represent something like a mid-point. A file can contain multiple self-contained meshes. A file contains a dimension mapping for each component defined by a mesh, e.g. a node dimension and a face dimension."
   ]
  },
  {
   "cell_type": "markdown",
   "id": "0bcc11cf-3ba8-45d5-82f1-d2cfa392e3cf",
   "metadata": {},
   "source": [
    "Construction of an abstract Mesh in Iris is beyond the scope of this tutorial you can look at the bonus notebook [\"mesh_from_numbers.ipynb\"](./mesh_from_numbers.ipynb) which explains this. "
   ]
  },
  {
   "cell_type": "markdown",
   "id": "a081493d-8587-4f90-b0e2-95ee0d1cefde",
   "metadata": {},
   "source": [
    "## LFRic meshes\n",
    "\n",
    "The most common usage (at least in LFRic output), is to have a mesh which defines nodes and faces, \n",
    "plus data variables mapped to the face components. Here is an example of what that looks like:"
   ]
  },
  {
   "cell_type": "markdown",
   "id": "74267854-e345-43ad-bc7d-cdde69f3043b",
   "metadata": {},
   "source": [
    "![Picture of nodes and faces](LFRic_mesh.svg)"
   ]
  },
  {
   "cell_type": "markdown",
   "id": "6ffd2393-1d94-47f1-b2ed-33eea856495a",
   "metadata": {},
   "source": [
    "This diagram demonstrates the relationship between face-numbers, node-numbers and node coordinates.\n",
    "Note that no _edges_ are shown here:  In UGRID, and Iris, mesh faces do not depend on edges, but are built only from nodes.\n",
    "\n",
    "Technically, the LFRic mesh is a \"**cubesphere**\".  \n",
    "  * the surface of the globe is divided into 6 equal 'panels', analagous to the 6 faces of a cube\n",
    "  * each panel is subdivided into N * N cells, giving 6 N^2 total cells\n",
    "  * the above view shows the neighbourhood of one cubesphere 'corner'\n"
   ]
  },
  {
   "cell_type": "markdown",
   "id": "f349fe5c-841c-48c7-a577-7090d2389a23",
   "metadata": {},
   "source": [
    "## Details of the Iris mesh content\n",
    "\n",
    "Exactly how Iris represents a mesh is not usually very relevant to working with cube data in Iris, nor to plotting it with PyVista.  \n",
    "So that is beyond the scope of an introductory tutorial.  \n",
    "\n",
    "However, for those interested, there is a bonus notebook showing some of this : [\"Mesh_Connectivities_demo.ipynb\"](./Mesh_Connectivities_demo.ipynb)\n"
   ]
  },
  {
   "cell_type": "markdown",
   "id": "4e96a9b0-1e62-47a3-b565-c6da620f7f7e",
   "metadata": {},
   "source": [
    "## Next notebook\n",
    "See the next section: [03 - Plotting and Visualisation](./Sec_03_Plotting.ipynb)"
   ]
  },
  {
   "cell_type": "code",
   "execution_count": null,
   "id": "12005e21-9a61-44a2-85c1-01d11da5ade3",
   "metadata": {},
   "outputs": [],
   "source": []
  }
 ],
 "metadata": {
  "kernelspec": {
   "display_name": "Python 3 (ipykernel)",
   "language": "python",
   "name": "python3"
  },
  "language_info": {
   "codemirror_mode": {
    "name": "ipython",
    "version": 3
   },
   "file_extension": ".py",
   "mimetype": "text/x-python",
   "name": "python",
   "nbconvert_exporter": "python",
   "pygments_lexer": "ipython3",
   "version": "3.9.16"
  },
  "toc-autonumbering": true,
  "toc-showmarkdowntxt": false
 },
 "nbformat": 4,
 "nbformat_minor": 5
}
