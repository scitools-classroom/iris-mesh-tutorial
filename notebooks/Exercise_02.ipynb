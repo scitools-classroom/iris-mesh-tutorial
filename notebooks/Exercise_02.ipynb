{
 "cells": [
  {
   "cell_type": "markdown",
   "id": "3a04ca02-fdbb-46d4-bd9c-50aea8e4a1c7",
   "metadata": {
    "tags": []
   },
   "source": [
    "# LFRic Iris data manipulation and visualisation practical\n",
    "\n",
    "Let's apply what we've learned about data processing and visualisation of LFRic data in Iris and PyVista with the two exercises. \\\n",
    "\n",
    "The aim is to use the prompts to write the code yourself, but we have also provided a separate notebook containing the answers if you are stuck \\\n",
    "\n",
    "All the information needed to write the code for this practical can be found in the notebooks in the first part of this practical \\\n",
    "\n",
    "Note: this is delivered in Jupyter labs, but sometime the PyVista and GeoVista plotting is laggy in labs. If you prefer you can run in ipython.\n",
    "\n"
   ]
  },
  {
   "cell_type": "markdown",
   "id": "a75f07af-d4dc-45d2-b417-948d04eff5f1",
   "metadata": {},
   "source": [
    "## Exercise 2 - Regrid UM data to LFRic and plot using PyVista"
   ]
  },
  {
   "cell_type": "markdown",
   "id": "f928a878-5a5c-4abe-8635-a01d68a51b71",
   "metadata": {},
   "source": [
    "Now you can do a similar exercise compared to the previous Exercise 1, but regrid UM data onto a LFRic mesh and plot the data using PyVista"
   ]
  },
  {
   "cell_type": "markdown",
   "id": "bf0a3681",
   "metadata": {},
   "source": [
    "**Step 1** To begin, we need to import the neccesary packages that we will need for this exercise."
   ]
  },
  {
   "cell_type": "code",
   "execution_count": 1,
   "id": "5b4e9653",
   "metadata": {},
   "outputs": [],
   "source": [
    "%matplotlib inline\n",
    "import pyvista as pv\n",
    "import geovista as gv\n",
    "import geovista.theme\n",
    "import iris.quickplot as qplt\n",
    "import iris\n",
    "from geovista import GeoPlotter\n",
    "from esmf_regrid.experimental.unstructured_scheme import MeshToGridESMFRegridder, GridToMeshESMFRegridder\n",
    "from iris.experimental.ugrid.load import PARSE_UGRID_ON_LOAD\n",
    "pv.rcParams[\"use_ipyvtk\"] = True\n",
    "iris.FUTURE.datum_support = True  # avoids some warnings"
   ]
  },
  {
   "cell_type": "markdown",
   "id": "69d50af6",
   "metadata": {},
   "source": [
    "The pv_conversions script contains two functions which convert LFRic cubes to pyvista objects. Load these two functions:"
   ]
  },
  {
   "cell_type": "code",
   "execution_count": 2,
   "id": "30e5c42d",
   "metadata": {},
   "outputs": [],
   "source": [
    "from pv_conversions import pv_from_lfric_cube\n",
    "from pv_conversions import pv_from_um_cube"
   ]
  },
  {
   "cell_type": "markdown",
   "id": "0035d108-8c91-4fd9-9ce3-d0568118fe9f",
   "metadata": {},
   "source": [
    "**Step 2** Lets chose a different diagnostic, 'surface_temperature' and load both the UM data, as well LFRic data to use as reference grid."
   ]
  },
  {
   "cell_type": "code",
   "execution_count": 3,
   "id": "e8ad3844-5141-42f6-8837-869624e5612d",
   "metadata": {},
   "outputs": [],
   "source": [
    "data_path = \n",
    "lfric_path = data_path + '20210324T0000Z_lf_ugrid.nc'\n",
    "um_path = data_path + '20210324T0000Z_um_latlon.nc'\n",
    "\n",
    "with PARSE_UGRID_ON_LOAD.context():\n",
    "    lfric_rho = iris.load_cube(lfric_path, 'surface_air_pressure')\n",
    "    \n",
    "um_temp = iris.load_cube(um_path, 'surface_temperature')\n",
    "um_temp_t0 = um_temp[0]"
   ]
  },
  {
   "cell_type": "markdown",
   "id": "a904d0a2",
   "metadata": {},
   "source": [
    "**Step 3** Initialise the regridder 'GridToMeshESMFRegridder' \\\n",
    "Then use the regridder to regrid the new UM cube created earlier. Print your result and notice the mesh characterisics."
   ]
  },
  {
   "cell_type": "code",
   "execution_count": null,
   "id": "21a7a914",
   "metadata": {},
   "outputs": [],
   "source": []
  },
  {
   "cell_type": "markdown",
   "id": "1e642914-08be-4243-8249-f66b381f0025",
   "metadata": {},
   "source": [
    "**Step 4** Plot the regridded UM data with PyVista. \\\n",
    "(hint: before you can do this you will need to convert you mesh to polydata using pv_from_lfric_cube)"
   ]
  },
  {
   "cell_type": "code",
   "execution_count": 5,
   "id": "35702c7a-f5dd-42c0-847e-33067870c167",
   "metadata": {},
   "outputs": [
    {
     "data": {
      "application/vnd.jupyter.widget-view+json": {
       "model_id": "2f1b4539b35347f488b33273e09c5f43",
       "version_major": 2,
       "version_minor": 0
      },
      "text/plain": [
       "ViewInteractiveWidget(height=768, layout=Layout(height='auto', width='100%'), width=1024)"
      ]
     },
     "metadata": {},
     "output_type": "display_data"
    }
   ],
   "source": []
  },
  {
   "cell_type": "markdown",
   "id": "1d5d8c0e-2868-4ba2-963d-7a33633d7152",
   "metadata": {},
   "source": [
    "**Step 5** Plot the native UM data with PyVista. \\\n",
    "(hint: before you can do this you will need to convert you mesh to polydata using pv_from_um_cube)"
   ]
  },
  {
   "cell_type": "code",
   "execution_count": 6,
   "id": "b021e493-4581-48cb-8b4a-e477b4afdfa1",
   "metadata": {},
   "outputs": [
    {
     "data": {
      "application/vnd.jupyter.widget-view+json": {
       "model_id": "ee1084061f7e47e5b2c3fe8ef0453c8d",
       "version_major": 2,
       "version_minor": 0
      },
      "text/plain": [
       "ViewInteractiveWidget(height=768, layout=Layout(height='auto', width='100%'), width=1024)"
      ]
     },
     "metadata": {},
     "output_type": "display_data"
    }
   ],
   "source": []
  },
  {
   "cell_type": "markdown",
   "id": "737a0625-72d6-4f25-8072-45d0fa12dfb2",
   "metadata": {},
   "source": [
    "**Step 6** Now we can plot this data side by side \\\n",
    "(hints: start by using plotter = GeoPlotter(shape=(1,2)), then create your subplots, add your coastlines, add a base layer, and add you mesh) \\\n",
    "note: PyVista and GeoVista can be slow in jupyter labs, but try and move the plots, look at the poles - you might notice the polar sigularity problem of the lat-lon grid."
   ]
  },
  {
   "cell_type": "code",
   "execution_count": 7,
   "id": "8a22da6b-ade6-48f8-925f-4fa3a1a62fc3",
   "metadata": {},
   "outputs": [
    {
     "data": {
      "application/vnd.jupyter.widget-view+json": {
       "model_id": "aafef006f0814c0ba0dcf059de30729e",
       "version_major": 2,
       "version_minor": 0
      },
      "text/plain": [
       "ViewInteractiveWidget(height=768, layout=Layout(height='auto', width='100%'), width=1024)"
      ]
     },
     "metadata": {},
     "output_type": "display_data"
    }
   ],
   "source": []
  },
  {
   "cell_type": "markdown",
   "id": "5da63976-8536-4181-862a-aba1138d9914",
   "metadata": {},
   "source": [
    "**Step 7** In notebook Section 3, we see how to use the plotter.camera_position = viewpoint functionality. Try this out with the surface temperature data. "
   ]
  },
  {
   "cell_type": "code",
   "execution_count": 8,
   "id": "7df0c02a-1ee9-4b56-a5ce-41ee228293cd",
   "metadata": {},
   "outputs": [
    {
     "data": {
      "application/vnd.jupyter.widget-view+json": {
       "model_id": "6148592a79b241caba880ee14fc8bf13",
       "version_major": 2,
       "version_minor": 0
      },
      "text/plain": [
       "ViewInteractiveWidget(height=768, layout=Layout(height='auto', width='100%'), width=1024)"
      ]
     },
     "metadata": {},
     "output_type": "display_data"
    }
   ],
   "source": []
  },
  {
   "cell_type": "markdown",
   "id": "0ee710c4-148d-41a0-8a6d-bdd2acd8912b",
   "metadata": {},
   "source": [
    "**Finished!?** These two exercises were just the beginning. If you have time try adding some cells below and extract a zonal mean, or try to select a region of data. "
   ]
  }
 ],
 "metadata": {
  "kernelspec": {
   "display_name": "Python 3 (ipykernel)",
   "language": "python",
   "name": "python3"
  },
  "language_info": {
   "codemirror_mode": {
    "name": "ipython",
    "version": 3
   },
   "file_extension": ".py",
   "mimetype": "text/x-python",
   "name": "python",
   "nbconvert_exporter": "python",
   "pygments_lexer": "ipython3",
   "version": "3.9.15"
  },
  "toc-autonumbering": true,
  "toc-showtags": false
 },
 "nbformat": 4,
 "nbformat_minor": 5
}
