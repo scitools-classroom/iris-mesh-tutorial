{
 "cells": [
  {
   "cell_type": "markdown",
   "id": "b1e7fded-2b5b-4484-9294-6d08f886bf54",
   "metadata": {},
   "source": [
    "# Section 1: Loading and Examining some LFRic data\n",
    "\n",
    "This Section uses output from LFRic and UM case study runs to show some basic differences of unstructured mesh (LFRic) and gridded data (UM).  \n",
    "\n",
    "Example data is available with this tutorial.  \n",
    "Let's dive right in by taking a look at some output file contents."
   ]
  },
  {
   "cell_type": "markdown",
   "id": "33d43f87-8bf1-4cad-b9ff-115eb0d08b1f",
   "metadata": {},
   "source": [
    "## Iris unstructured loading\n",
    "\n",
    "\"Unstructured\" data can be loaded from UGRID files (i.e. netCDF files containing a UGRID-style mesh). This is just like normal [Iris](https://scitools-iris.readthedocs.io/en/latest) loading, except that we must *enable* the interpretion of UGRID content like this:\n",
    "\n",
    "```python\n",
    "with PARSE_UGRID_ON_LOAD.context():\n",
    "    cube_list = iris.load(path [, constraints])\n",
    "    # ..and/or..\n",
    "    single_cube = iris.load_cube(path [, constraints])\n",
    "    # ..and/or..\n",
    "    selected_cubes = iris.load_cubes(path, cube_constraints)\n",
    "\n",
    "```"
   ]
  },
  {
   "cell_type": "markdown",
   "id": "f7e6112c-e05b-4f37-9abc-90ed5d0251d3",
   "metadata": {},
   "source": [
    "### Enable UGRID loading\n",
    "\n",
    "To test loading of UGRID files, like demonstrated above, we need to import `iris`, and the `PARSE_UGRID_ON_LOAD` object from [iris.experimental.ugrid.load](https://scitools-iris.readthedocs.io/en/latest/generated/api/iris/experimental/ugrid/load.html#)\n"
   ]
  },
  {
   "cell_type": "code",
   "execution_count": null,
   "id": "46d31079-c1db-471a-9f55-bfbde788467e",
   "metadata": {
    "tags": []
   },
   "outputs": [],
   "source": [
    "import iris \n",
    "\n",
    "from iris.experimental.ugrid.load import PARSE_UGRID_ON_LOAD"
   ]
  },
  {
   "cell_type": "markdown",
   "id": "e2a35429-1795-43ca-a29b-4fa6262931e4",
   "metadata": {},
   "source": [
    "### Load UGRID data from netCDF files.\n",
    "The tutorial helper code [testdata_fetching](./testdata_fetching.py) defines a variable `lfric_filepath` (and `um_filepath`) which points to suitable a test file."
   ]
  },
  {
   "cell_type": "code",
   "execution_count": null,
   "id": "50d68f55-45ac-466d-ba09-ecaee5c1d561",
   "metadata": {
    "lines_to_next_cell": 2,
    "tags": []
   },
   "outputs": [],
   "source": [
    "# import tutorial helper routines for handling access to test data\n",
    "from testdata_fetching import lfric_filepth, um_filepth\n",
    "print('LFRic data availble from ' + str(lfric_filepth))\n",
    "print('UM data availble from ' + str(um_filepth))"
   ]
  },
  {
   "cell_type": "markdown",
   "id": "250c3566-7db6-41db-bd28-8fe6318a41cb",
   "metadata": {},
   "source": [
    "In this case, we use the plain [iris.load](https://scitools-iris.readthedocs.io/en/latest/userguide/loading_iris_cubes.html) function to load the data (but of course with the PARSE_UGRID_ON_LOAD context) from above listed files. \n",
    "\n",
    "We show the first few of the cubes. Putting just `cubes` at the end triggers noteboook printing output. You can click on each cube to expand it into detail view. Try this. Try also to use `print(cubes)` instead."
   ]
  },
  {
   "cell_type": "code",
   "execution_count": null,
   "id": "357fd528-0ccb-405a-a4b2-9c035e95ef51",
   "metadata": {
    "lines_to_next_cell": 2,
    "tags": []
   },
   "outputs": [],
   "source": [
    "print('loading...')\n",
    "with PARSE_UGRID_ON_LOAD.context():\n",
    "    cubes = iris.load(lfric_filepth)\n",
    "\n",
    "print(f'\\n... Loaded {len(cubes)} cubes.')\n",
    "print('Showing first 6:')\n",
    "cubes[:6]"
   ]
  },
  {
   "cell_type": "markdown",
   "id": "604a48f9-8275-40e9-9d97-9294ce4e8ad7",
   "metadata": {},
   "source": [
    "Putting just `cubes` at the end of the code above triggers noteboook printing output. You can click on each cube to expand it into detail view. Try this. Try also to use `print(cubes)` instead. To spot some structual differences between LFRic and UM data also load some cubes from `um_filepath` above. "
   ]
  },
  {
   "cell_type": "markdown",
   "id": "0ee9e097-b5ad-45d5-90e6-3121698af510",
   "metadata": {},
   "source": [
    "## What is notable about \"mesh cubes\"\n",
    "\n",
    "In the cube printout above, compared to regular UM-style data (try loading data from `um_filepth`), you can see that it has an additional section in the cube printout called \"Mesh\", which displays the mesh-specific info. The Mesh has \"Mesh coordinates\", containing information about latitude and longitude but no dimension coordinates for latitude or longitude. Cubes with a mesh are known in Iris as \"unstructured cubes\" or \"mesh cubes\". They also always have a specific \"mesh dimension\": In the above example it is the _last_ cube dimension.\n",
    "\n",
    "\n",
    "The cube itself also now has some extra properties : `cube.mesh`, `cube.location` and `cube.mesh_dim()`  \n",
    "(which are otherwise all `None` if the cube is not a mesh cube)\n"
   ]
  },
  {
   "cell_type": "markdown",
   "id": "a879a924-b2ad-4928-ba84-d128a3be4c1d",
   "metadata": {},
   "source": [
    "## Loading a single cube\n",
    "To print the three mentioned extras properties we load just a single cube from the file (This is considerably faster if a file contains 100s variables). Let's load just `relative_humidity_wrt_water` data from the example file (`fric_filepth`) whith the [load_cube](https://scitools-iris.readthedocs.io/en/latest/generated/api/iris.html?highlight=load_cube#iris.load_cube) function and print those properties:"
   ]
  },
  {
   "cell_type": "code",
   "execution_count": null,
   "id": "e30b31fb-16e6-4b49-9ff7-77ba761f7f04",
   "metadata": {
    "tags": []
   },
   "outputs": [],
   "source": [
    "with PARSE_UGRID_ON_LOAD.context():\n",
    "    lfric_rh = iris.load_cube(lfric_filepth,'relative_humidity_wrt_water')\n",
    "\n",
    "# just uncomment to explore: \n",
    "#print(lfric_rh)\n",
    "#print(lfric_rh.mesh)\n",
    "#print(lfric_rh.location)\n",
    "#print(lfric_rh.mesh_dim)\n"
   ]
  },
  {
   "cell_type": "markdown",
   "id": "ee291cd1-7009-43e1-b62a-2ab615d458f0",
   "metadata": {},
   "source": [
    "If the cube is not a mesh cube these propertise are  `None`, which we can demonstrate with a cube from the \"UM file\":   "
   ]
  },
  {
   "cell_type": "code",
   "execution_count": null,
   "id": "075a6e1b-e188-4867-a101-1e7f06661072",
   "metadata": {
    "tags": []
   },
   "outputs": [],
   "source": [
    "um_cube = iris.load_cube(um_filepth,'air_temperature')\n",
    "#print(um_cube)\n",
    "print(um_cube.mesh)\n"
   ]
  },
  {
   "cell_type": "markdown",
   "id": "ccdf55df-f481-48df-b116-9c8dc440d84d",
   "metadata": {},
   "source": [
    "## Next notebook\n",
    "See the next section: [02 - Mesh concepts and Meshes in Iris](./Sec_02_Meshes.ipynb)"
   ]
  }
 ],
 "metadata": {
  "kernelspec": {
   "display_name": "Python 3 (ipykernel)",
   "language": "python",
   "name": "python3"
  },
  "language_info": {
   "codemirror_mode": {
    "name": "ipython",
    "version": 3
   },
   "file_extension": ".py",
   "mimetype": "text/x-python",
   "name": "python",
   "nbconvert_exporter": "python",
   "pygments_lexer": "ipython3",
   "version": "3.9.16"
  }
 },
 "nbformat": 4,
 "nbformat_minor": 5
}
