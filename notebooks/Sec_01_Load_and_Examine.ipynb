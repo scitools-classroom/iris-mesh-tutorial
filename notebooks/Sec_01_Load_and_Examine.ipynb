{
 "cells": [
  {
   "cell_type": "markdown",
   "id": "b1e7fded-2b5b-4484-9294-6d08f886bf54",
   "metadata": {},
   "source": [
    "# Section 1: Loading and Examining some LFRic data\n",
    "\n",
    "This Section uses output from LFRic and UM case study runs to show some basic differences of unstructured mesh (LFRic) and gridded data (UM).  \n",
    "\n",
    "Example data is available with this tutorial.  \n",
    "Let's dive right in by taking a look at some output file contents."
   ]
  },
  {
   "cell_type": "markdown",
   "id": "33d43f87-8bf1-4cad-b9ff-115eb0d08b1f",
   "metadata": {},
   "source": [
    "## Iris unstructured loading\n",
    "\n",
    "\"Unstructured\" data can be loaded from UGRID files (i.e. netCDF files containing a UGRID-style mesh).  \n",
    "This is just like normal Iris loading, except that we must *enable* the interpretion of UGRID content,  \n",
    "roughly like this ...\n",
    "\n",
    "```python\n",
    "with PARSE_UGRID_ON_LOAD.context():\n",
    "    cube_list = iris.load(path [, constraints])\n",
    "    # ..and/or..\n",
    "    single_cube = iris.load_cube(path [, constraints])\n",
    "    # ..and/or..\n",
    "    selected_cubes = iris.load_cubes(path, cube_constraints)\n",
    "\n",
    "```"
   ]
  },
  {
   "cell_type": "markdown",
   "id": "f7e6112c-e05b-4f37-9abc-90ed5d0251d3",
   "metadata": {},
   "source": [
    "### Enable UGRID loading\n",
    "\n",
    "Most importantly, we need the `PARSE_UGRID_ON_LOAD` object from `iris.experimental.ugrid.load`"
   ]
  },
  {
   "cell_type": "code",
   "execution_count": null,
   "id": "46d31079-c1db-471a-9f55-bfbde788467e",
   "metadata": {},
   "outputs": [],
   "source": [
    "from iris.experimental.ugrid.load import PARSE_UGRID_ON_LOAD"
   ]
  },
  {
   "cell_type": "markdown",
   "id": "c8111877-49ab-4d40-ae3d-d395274085fb",
   "metadata": {},
   "source": [
    "### Load UGRID data from netCDF files.\n",
    "The variable `lfric_filepath` is defined in the tutorial helper code `testdata_fetching`: \n",
    "It points to a suitable test file.\n",
    "\n",
    "In this case, we use the plain `iris.load` function, as shown above.  \n",
    "\n",
    "NOTE : ***There are a lot of cubes:  Expect this to take a few seconds, and only show a few of the cubes.***"
   ]
  },
  {
   "cell_type": "code",
   "execution_count": null,
   "id": "50d68f55-45ac-466d-ba09-ecaee5c1d561",
   "metadata": {
    "lines_to_next_cell": 2
   },
   "outputs": [],
   "source": [
    "# First do some preliminary Python setup, imports etc ...\n",
    "\n",
    "# import the top-level Iris package\n",
    "import iris\n",
    "\n",
    "# import local routines handling access to some test data\n",
    "from testdata_fetching import lfric_filepth"
   ]
  },
  {
   "cell_type": "code",
   "execution_count": null,
   "id": "357fd528-0ccb-405a-a4b2-9c035e95ef51",
   "metadata": {
    "lines_to_next_cell": 2
   },
   "outputs": [],
   "source": [
    "print('loading...')\n",
    "with PARSE_UGRID_ON_LOAD.context():\n",
    "    cubes = iris.load(lfric_filepth)\n",
    "\n",
    "print(f'\\n... Loaded {len(cubes)} cubes.')\n",
    "print('Showing first 4:')\n",
    "cubes[:4]"
   ]
  },
  {
   "cell_type": "markdown",
   "id": "38e5e2ba-d62e-4d38-849d-432bb1266d22",
   "metadata": {},
   "source": [
    "---\n",
    "**NOTES:**\n",
    "  * putting just `cubes` at the end triggers notebook printing output\n",
    "    * this also means you can click on each cube to \"expand\" it into a detail view -- ***try this***\n",
    "  * the effect of `print(cubes)` is different -- ***try this***"
   ]
  },
  {
   "cell_type": "markdown",
   "id": "a879a924-b2ad-4928-ba84-d128a3be4c1d",
   "metadata": {},
   "source": [
    "## Loading a single cube\n",
    "You can instead load just a _single_ cube from the file.  \n",
    "This is considerably _faster_ in many cases, since a typical file may contain 100s data-variables (i.e. diagnostics).\n",
    "\n",
    "### Load just \"relative_humidity_wrt_water\" data\n",
    "(From the same file)  \n",
    "NOTE: it is nicer to use the `load_cube` function."
   ]
  },
  {
   "cell_type": "code",
   "execution_count": null,
   "id": "e30b31fb-16e6-4b49-9ff7-77ba761f7f04",
   "metadata": {},
   "outputs": [],
   "source": [
    "with PARSE_UGRID_ON_LOAD.context():\n",
    "    lfric_rh = iris.load_cube(lfric_filepth, \"relative_humidity_wrt_water\")\n",
    "\n",
    "lfric_rh"
   ]
  },
  {
   "cell_type": "markdown",
   "id": "cd4ef585-41b6-4c89-8ca8-f0eeb6834a4f",
   "metadata": {},
   "source": [
    "**NOTES:**\n",
    "  * putting just the `lfric_rh` variable at the end of the Jupyter cell triggers notebook printing output\n",
    "  * the effect of `print(lfric_rh)` is different -- ***try this***\n"
   ]
  },
  {
   "cell_type": "code",
   "execution_count": null,
   "id": "caed4b34-9dc1-4b74-a4ca-52014fb52d86",
   "metadata": {},
   "outputs": [],
   "source": []
  },
  {
   "cell_type": "markdown",
   "id": "0ee9e097-b5ad-45d5-90e6-3121698af510",
   "metadata": {},
   "source": [
    "## What is notable about \"mesh cubes\"\n",
    "\n",
    "In the cube printout above, _compared to regular UM-style data_, you can see that it has an additional section in the cube printout called \"Mesh\", which displays the mesh-specific info.  \n",
    "\n",
    "The cube itself also now has some extra properties : `cube.mesh`, `cube.location` and `cube.mesh_dim()`  \n",
    "(which are otherwise all `None`)\n",
    "\n",
    "Cubes with a mesh are known in Iris as \"unstructured cubes\" or \"mesh cubes.  \n",
    "They also always have a specific \"mesh dimension\":  In the above example it is the _last_ cube dimension.\n"
   ]
  },
  {
   "cell_type": "code",
   "execution_count": null,
   "id": "075a6e1b-e188-4867-a101-1e7f06661072",
   "metadata": {},
   "outputs": [],
   "source": []
  },
  {
   "cell_type": "markdown",
   "id": "ccdf55df-f481-48df-b116-9c8dc440d84d",
   "metadata": {},
   "source": [
    "## Next notebook\n",
    "See the next section: [02 - Mesh concepts and Meshes in Iris](./Sec_02_Meshes.ipynb)"
   ]
  },
  {
   "cell_type": "code",
   "execution_count": null,
   "id": "12005e21-9a61-44a2-85c1-01d11da5ade3",
   "metadata": {},
   "outputs": [],
   "source": []
  }
 ],
 "metadata": {
  "kernelspec": {
   "display_name": "Python 3 (ipykernel)",
   "language": "python",
   "name": "python3"
  },
  "language_info": {
   "codemirror_mode": {
    "name": "ipython",
    "version": 3
   },
   "file_extension": ".py",
   "mimetype": "text/x-python",
   "name": "python",
   "nbconvert_exporter": "python",
   "pygments_lexer": "ipython3",
   "version": "3.9.16"
  }
 },
 "nbformat": 4,
 "nbformat_minor": 5
}
