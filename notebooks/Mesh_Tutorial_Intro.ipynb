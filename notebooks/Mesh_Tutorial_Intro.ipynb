{
 "cells": [
  {
   "cell_type": "markdown",
   "id": "7af83b7a-1477-4505-b5ef-4801bb384a1f",
   "metadata": {},
   "source": [
    "# LFRic + Iris tutorial: Unstructured meshes\n",
    "\n",
    "The tutorial is provided as a set of Jupyter notebooks, best viewed in Juptyer lab.  \n",
    "Please see list below for the individual topics."
   ]
  },
  {
   "cell_type": "markdown",
   "id": "a4bf9666-e64b-4fd6-9be3-1136489c41b6",
   "metadata": {},
   "source": [
    "## Tutorial sections (links to individual notebooks):\n",
    "   * [01 - Load and Examine some LFRic data](./Sec_01_Load_and_Examine.ipynb)\n",
    "   * [02 - Mesh concepts and Meshes in Iris](./Sec_02_Meshes.ipynb)\n",
    "   * [03 - Plotting and Visualisation](./Sec_03_Plotting.ipynb)\n",
    "   * [04 - Regridding and UM data comparison](./Sec_04_Regridding.ipynb)\n",
    "   * [05 - Regional Extraction](./Sec_05_RegionExtraction.ipynb)\n",
    "\n",
    "## Bonus and additional material\n",
    "  * [Bonus 01 - Mesh from Numbers](./Bonus_01_Mesh_from_Numbers.ipynb): Manually construct an Iris mesh\n",
    "  * [Bonus 02 - Mesh Connectivities Demo](./Bonus_02_Mesh_Connectivities_Demo.ipynb): Investigate some details of the LFRic mesh, as it appears in Iris\n",
    "  * [Bonus 03 - MeshCube Extraction](./Bonus_03_MeshCube_Extraction.ipynb): Use Geovista to extract a mesh-cube subregion as a new Iris cube\n",
    "  \n",
    "  \n",
    "## Exercise \n",
    "\n",
    "* [Exercise 01](./Exercise_01.ipynb) - Test what you have learned in Section 01 to Section 05  \n",
    "* [Exercise 02](./Exercise_02.ipynb) - Test what you have learned in Section 01 to Section 05\n"
   ]
  },
  {
   "cell_type": "markdown",
   "id": "5e796f9a-54a5-45f4-bee8-b93efc937315",
   "metadata": {
    "incorrectly_encoded_metadata": "jp-MarkdownHeadingCollapsed=true",
    "lines_to_next_cell": 2,
    "tags": []
   },
   "source": [
    "## Jargon: a really brief glossary of terms\n",
    "  * [**UM**](https://code.metoffice.gov.uk/trac/um): The Unified Model\n",
    "  * [**LFRic**](https://www.metoffice.gov.uk/research/approach/modelling-systems/lfric): The UM successor model, modelling cells on an unstructured (cube-sphere) mesh\n",
    "  * **mesh**: Description of arbitrary locations and regions in space\n",
    "  * **unstructured**: An _irregular_ arrangement of spatial locations (constrast with 'regular grids')\n",
    "  * **cubesphere**: Mesh of cells on the globe, arranged like a cube with square cells on each face\n",
    "  * [**CF**](https://cfconventions.org/cf-conventions/cf-conventions.html): Conventions for encoding climate and forecast data in netCDF files\n",
    "  * [**UGRID**](https://ugrid-conventions.github.io/ugrid-conventions/): Conventions which extend CF to data on unstructured meshes\n",
    "  * [**XIOS**](https://forge.ipsl.jussieu.fr/ioserver): Software used by LFRic to save model output as UGRID formatted netCDF files\n",
    "  * [**VTK**](https://vtk.org/): 3D modelling and visualisation package, based in c++\n",
    "  * [**PyVista**](https://pyvista.org/): Python package providing control of VTK from Python code\n",
    "  * [**GeoVista**](https://github.com/bjlittle/geovista#readme): Python package adding geo-location support and utilites to PyVista\n",
    "  * [**ESMF**](https://earthsystemmodeling.org/) Earth System Modelling Framework: modelling support code for regridding, coupling etc, based in FORTRAN\n",
    "  * [**iris-esmf-regrid**](https://github.com/SciTools-incubator/iris-esmf-regrid#readme): Python package providing ESMF-based mesh regridders for Iris\n"
   ]
  },
  {
   "cell_type": "markdown",
   "id": "1fb1e41a-1b09-485c-b3a9-21e7b9cee16a",
   "metadata": {},
   "source": [
    "---\n",
    "## Use and stability of notebooks\n",
    "\n",
    "A good deal of the content relies on code which is still experimental. We must expect that there are various outstanding problems, and things sometimes crash. A particular problem is getting things working *within notebooks*.  For that purpose, the following may be useful general notes:\n",
    "\n",
    "### Python environment\n",
    "When opening a notebook, you may be **prompted** to select the Python environment with which to run it (which must contain Iris, Jupyter, PyVista etc).  \n",
    "We suggest that you launch the Jupyter server _itself_ in the dedicated (conda) tutorial env. Then you can simply use the _same_ env as the server, i.e. select \"`Python 3 (ipykernel)`\".\n",
    "\n",
    "### When something seems to be taking a long time with no result...\n",
    "   1. ***first*** look at \"kernel status\" in top-right of the JupyterLab notebook pane  \n",
    "       meanings as described in its mouse-over text: \n",
    "       * white circle = \"idle\" (ok, done)\n",
    "       * grey circle = \"busy\"\n",
    "       * \"electric zap\" icon = \"connecting\"  ***-- this one often means \"crashed\"***\n",
    "   2. if stuck, you can always \"restart the kernel\"  \n",
    "      (the arrow-round-a-circle icon, in controls at top left of notebook pane)  \n",
    "      but note :\n",
    "        1. this will destroy the entire session :  you need to rerun all notebook cells from the start again\n",
    "        2. after resetting, **do not attempt anything further** until the kernel state shows \"idle\" again\n",
    "   3. sometimes gets *really* stuck  \n",
    "      -- e.g. after restart, kernel status persists in \"connecting\" / \"restarting\" state  \n",
    "      In such cases, *close* the JupyterLab window + restart\n",
    "      * i.e. `$ jupyter-lab`"
   ]
  },
  {
   "cell_type": "code",
   "execution_count": null,
   "id": "b8346151-8bbc-4dd2-9aea-0f59a19151e1",
   "metadata": {},
   "outputs": [],
   "source": []
  }
 ],
 "metadata": {
  "kernelspec": {
   "display_name": "Python 3 (ipykernel)",
   "language": "python",
   "name": "python3"
  },
  "language_info": {
   "codemirror_mode": {
    "name": "ipython",
    "version": 3
   },
   "file_extension": ".py",
   "mimetype": "text/x-python",
   "name": "python",
   "nbconvert_exporter": "python",
   "pygments_lexer": "ipython3",
   "version": "3.9.16"
  },
  "toc-autonumbering": false,
  "toc-showcode": false,
  "toc-showmarkdowntxt": false
 },
 "nbformat": 4,
 "nbformat_minor": 5
}
