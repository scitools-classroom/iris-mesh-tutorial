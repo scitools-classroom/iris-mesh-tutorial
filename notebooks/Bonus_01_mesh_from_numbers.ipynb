{
 "cells": [
  {
   "cell_type": "markdown",
   "id": "afba929f-b9ac-47b6-a473-9bb111e5343f",
   "metadata": {},
   "source": [
    "# Constructing an Iris mesh from bare numbers"
   ]
  },
  {
   "cell_type": "code",
   "execution_count": null,
   "id": "e0bb3f26-2b49-4b81-b14a-631b686af739",
   "metadata": {},
   "outputs": [],
   "source": [
    "# Construct a test mesh from scratch : define a mesh in numbers\n",
    "\n",
    "# define some node X and Y points\n",
    "import numpy as np\n",
    "big_points_x = np.array([6.0, 3, 5, 1, 5, 3, 5, 5, 4, 2, 1, 6, 3, 5, 3, 6, 2, 6, 1, 2, 2, 4, 1, 4, 4, 3, 4, 6, 2, 1])\n",
    "big_points_y = np.array([2.5, 1, 3, 0, 2, 0, 0, 4, 3.5, 2.5, 1, 4.5, 4, 1, 3, 3.5, 0.5, 0.5, 3, 4.5, 1.5, 2.5, 4, 1.5, 4.5, 2, 0.5, 1.5, 3.5, 2])\n",
    "\n",
    "big_points = np.stack([big_points_x, big_points_y]).T\n",
    "\n",
    "big_data = 100 * np.random.rand(30)\n",
    "\n",
    "# define which faces use which points\n",
    "big_faces = [\n",
    "    [22, 28, 19],\n",
    "    [18, 28, 22],\n",
    "    [18, 9, 28],\n",
    "    [9, 18, 29],\n",
    "    [29, 20, 9],\n",
    "    [10, 20, 29],\n",
    "    [10, 16, 20],\n",
    "    [3, 16, 10],\n",
    "    [19, 25, 24],\n",
    "    [16, 25, 19],\n",
    "    [16, 5, 25],\n",
    "    [5, 24, 25],\n",
    "    [5, 17, 24],\n",
    "    [17, 11, 24],\n",
    "]\n",
    "face_count = len(big_faces)\n",
    "\n",
    "big_face_plottable_x = []\n",
    "big_face_plottable_y = []\n",
    "\n",
    "for face in big_faces:\n",
    "    big_face_plottable_x.append([])\n",
    "    big_face_plottable_y.append([])\n",
    "    for node_num in face:\n",
    "        big_face_plottable_x[-1].append(big_points_x[node_num])\n",
    "        big_face_plottable_y[-1].append(big_points_y[node_num])\n",
    "    big_face_plottable_x[-1].append(big_points_x[face[0]])\n",
    "    big_face_plottable_y[-1].append(big_points_y[face[0]])\n",
    "\n",
    "    \n",
    "# Calculate coordinates of locations in the \"middle\" of each face\n",
    "# N.B. except, means of lats + lons are not true centres !\n",
    "face_coordinates_x = [np.mean(xs) for xs in big_face_plottable_x]\n",
    "face_coordinates_y = [np.mean(ys) for ys in big_face_plottable_y]\n",
    "\n",
    "# Calculate some random data for the cube 'payload'.\n",
    "np.random.seed(seed=1234)\n",
    "big_face_data = np.random.uniform(0, 100, face_count)"
   ]
  },
  {
   "cell_type": "code",
   "execution_count": null,
   "id": "a9579ab1-db27-4d19-a976-7ca6b7ec1f02",
   "metadata": {},
   "outputs": [],
   "source": [
    "# Create the component coordinates and connectivities.\n",
    "\n",
    "import iris.experimental.ugrid\n",
    "from iris.coords import AuxCoord\n",
    "\n",
    "# node coordinates\n",
    "node_coords_and_axes = [\n",
    "    (AuxCoord(big_points_x, standard_name=\"longitude\"), \"x\"),\n",
    "    (AuxCoord(big_points_y, standard_name=\"latitude\"), \"y\"),\n",
    "]\n",
    "\n",
    "# face_node_connectivity\n",
    "face_connectivity = iris.experimental.ugrid.mesh.Connectivity(\n",
    "    big_faces,\n",
    "    cf_role = 'face_node_connectivity'\n",
    ")\n",
    "\n",
    "# face coordinates\n",
    "face_coords_and_axes = [\n",
    "    (AuxCoord(face_coordinates_x, standard_name=\"longitude\"), \"x\"),\n",
    "    (AuxCoord(face_coordinates_y, standard_name=\"latitude\"), \"y\"),\n",
    "]"
   ]
  },
  {
   "cell_type": "code",
   "execution_count": null,
   "id": "acbfe43d-21da-4512-ae25-6c2f95d1197a",
   "metadata": {},
   "outputs": [],
   "source": [
    "# Make a mesh by passing the coordinates + connectivities\n",
    "# N.B. it's pretty unusual to be calling this directly, but the API does exist\n",
    "\n",
    "from iris.experimental.ugrid.mesh import Mesh\n",
    "\n",
    "my_first_mesh = iris.experimental.ugrid.Mesh(\n",
    "    topology_dimension=2,\n",
    "    node_coords_and_axes=node_coords_and_axes,\n",
    "    connectivities=[face_connectivity],\n",
    "    face_coords_and_axes=face_coords_and_axes\n",
    ")\n",
    "print(my_first_mesh)"
   ]
  },
  {
   "cell_type": "code",
   "execution_count": null,
   "id": "0c9589b3-6e5a-4fdd-935d-5ba13da1a98e",
   "metadata": {},
   "outputs": [],
   "source": [
    "# Here we make a cube with data attached to **faces**\n",
    "# N.B. a mesh may be shared by multiple cubes, the cubes may use the same or different locations\n",
    "\n",
    "from iris.cube import Cube\n",
    "\n",
    "x_coord = iris.experimental.ugrid.mesh.MeshCoord(my_first_mesh, \"face\", \"x\")\n",
    "y_coord = iris.experimental.ugrid.mesh.MeshCoord(my_first_mesh, \"face\", \"y\")\n",
    "\n",
    "my_first_mesh_cube = iris.cube.Cube(\n",
    "    data=big_face_data,\n",
    "    aux_coords_and_dims=[\n",
    "        (x_coord, 0),\n",
    "        (y_coord, 0),\n",
    "    ]\n",
    ")\n",
    "\n",
    "my_first_mesh_cube"
   ]
  },
  {
   "cell_type": "code",
   "execution_count": null,
   "id": "dbef1a7f-120c-4c71-9e74-c9fe94dc96b4",
   "metadata": {},
   "outputs": [],
   "source": [
    "# Assign some data to the cube, convert to a PolyData and plot it\n",
    "\n",
    "from pv_conversions import pv_from_lfric_cube\n",
    "pv = pv_from_lfric_cube(my_first_mesh_cube)\n",
    "pv.plot(jupyter_backend='static')"
   ]
  },
  {
   "cell_type": "code",
   "execution_count": null,
   "id": "917ba7ba-cac9-4a7d-a39f-6d5c25fcfe66",
   "metadata": {},
   "outputs": [],
   "source": []
  }
 ],
 "metadata": {
  "kernelspec": {
   "display_name": "Python 3 (ipykernel)",
   "language": "python",
   "name": "python3"
  },
  "language_info": {
   "codemirror_mode": {
    "name": "ipython",
    "version": 3
   },
   "file_extension": ".py",
   "mimetype": "text/x-python",
   "name": "python",
   "nbconvert_exporter": "python",
   "pygments_lexer": "ipython3",
   "version": "3.9.16"
  }
 },
 "nbformat": 4,
 "nbformat_minor": 5
}
