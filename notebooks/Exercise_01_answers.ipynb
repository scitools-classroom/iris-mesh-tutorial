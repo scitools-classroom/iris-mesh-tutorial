{
 "cells": [
  {
   "cell_type": "markdown",
   "id": "3a04ca02-fdbb-46d4-bd9c-50aea8e4a1c7",
   "metadata": {
    "tags": []
   },
   "source": [
    "# LFRic Iris data manipulation and visualisation practical\n",
    "\n",
    "Here we provide some example answers for [Exercise 01](Exercise_01.ipynb)."
   ]
  },
  {
   "cell_type": "markdown",
   "id": "a64c4394-a34d-434f-b46f-b4efa7c23e1d",
   "metadata": {
    "tags": []
   },
   "source": [
    "## Exercise 1 - Regrid LFRic to UM and plot data \n",
    "\n",
    "In this exercise you will take LFRic data, regrid it to UM data and then plot the differences"
   ]
  },
  {
   "cell_type": "markdown",
   "id": "9c47bf62-afd9-4974-96c9-e21dbd58f7c7",
   "metadata": {},
   "source": [
    "**Step 1** To begin, we need to import the neccesary packages that we will need for this exercise."
   ]
  },
  {
   "cell_type": "code",
   "execution_count": null,
   "id": "3febf87a-a9ee-4047-890c-e200d55de06c",
   "metadata": {
    "tags": []
   },
   "outputs": [],
   "source": [
    "%matplotlib inline\n",
    "import pyvista as pv\n",
    "import geovista as gv\n",
    "import geovista.theme\n",
    "import iris.quickplot as qplt\n",
    "import iris\n",
    "from geovista import GeoPlotter\n",
    "from esmf_regrid.experimental.unstructured_scheme import MeshToGridESMFRegridder, GridToMeshESMFRegridder\n",
    "from iris.experimental.ugrid.load import PARSE_UGRID_ON_LOAD\n",
    "pv.rcParams[\"use_ipyvtk\"] = True\n",
    "iris.FUTURE.datum_support = True  # avoids some warnings\n"
   ]
  },
  {
   "cell_type": "markdown",
   "id": "5d088822-3671-44ae-8f81-27df368a185e",
   "metadata": {},
   "source": [
    "The pv_conversions script contains two functions which convert LFRic cubes to pyvista objects. Load these two functions:"
   ]
  },
  {
   "cell_type": "code",
   "execution_count": null,
   "id": "1cd00d6a-e10a-4af1-870d-1874cead45c2",
   "metadata": {
    "tags": []
   },
   "outputs": [],
   "source": [
    "from pv_conversions import pv_from_lfric_cube"
   ]
  },
  {
   "cell_type": "markdown",
   "id": "fcba4bf8-d380-463c-abde-09d22f668ea9",
   "metadata": {},
   "source": [
    "**Step 2** Use iris.load_cube to load in the lfric data above, and select the diagnostic 'surface_air_pressure'. Print the cube - is it a mesh or grid? \\\n",
    "    (hint: you will need to use PARSE_UGRID_ON_LOAD.context() )"
   ]
  },
  {
   "cell_type": "code",
   "execution_count": null,
   "id": "b8eb1ce2-2160-4c3f-b97b-4b09946d84cc",
   "metadata": {
    "tags": []
   },
   "outputs": [],
   "source": [
    "# Define the location of the data and file names\n",
    "data_path = '../example_data/'\n",
    "lfric_path = data_path + 'u-ct674_20210324T0000Z_lf_ugrid.nc'\n",
    "um_path = data_path + 'u-ct674_20210324T0000Z_um_latlon.nc'\n",
    "\n",
    "with PARSE_UGRID_ON_LOAD.context():\n",
    "    lfric_psfc = iris.load_cube(lfric_path, 'surface_air_pressure')\n",
    "print(lfric_rho)"
   ]
  },
  {
   "cell_type": "markdown",
   "id": "6a40006c-dea0-4eca-b6da-15626a5d7906",
   "metadata": {
    "tags": []
   },
   "source": [
    "**Step 4** Select the first timestep from the data so we have a 2D cube"
   ]
  },
  {
   "cell_type": "code",
   "execution_count": null,
   "id": "296526aa-158b-43dd-8873-e0d6aa39f85f",
   "metadata": {
    "tags": []
   },
   "outputs": [],
   "source": [
    "lfric_psfc_t0 = lfric_psfc[0]"
   ]
  },
  {
   "cell_type": "markdown",
   "id": "fee7cd45-86b3-45a6-a158-811244de2cb0",
   "metadata": {},
   "source": [
    "**Step 3** Transform the LFRic cube into a pyvista object using one of the functions from pv_conversions"
   ]
  },
  {
   "cell_type": "code",
   "execution_count": null,
   "id": "5cd7a318-9462-4e6f-99b6-73ab2033a6c0",
   "metadata": {
    "tags": []
   },
   "outputs": [],
   "source": [
    "lfric_pv = pv_from_lfric_cube(lfric_psfc_t0)"
   ]
  },
  {
   "cell_type": "markdown",
   "id": "6689db53-29a9-44ce-9c55-15093e36959c",
   "metadata": {},
   "source": [
    "**Step 5** Use GeoPlotter to plot the data using PyVista. You will need to use plotter.show() to display the plot.\n",
    "\n",
    "You can now observe Surface Air Pressue on a 3D globe. "
   ]
  },
  {
   "cell_type": "code",
   "execution_count": null,
   "id": "d734a828-d67b-4421-96e1-31e68724168b",
   "metadata": {
    "tags": []
   },
   "outputs": [],
   "source": [
    "# Plot the data using pyvista\n",
    "plotter = GeoPlotter()\n",
    "_ = plotter.add_mesh(lfric_pv)\n",
    "plotter.show()"
   ]
  },
  {
   "cell_type": "markdown",
   "id": "56581cce-68a2-46e1-b8e3-4c6c6fa2650d",
   "metadata": {},
   "source": [
    "**Step 6** Now, lets regrid some LFRic data onto a lat/lon grid \\\n",
    "\n",
    "Use iris.load_cube to load the reference grid and print the cube. You can use the equivelent UM data loaded above for this. "
   ]
  },
  {
   "cell_type": "code",
   "execution_count": null,
   "id": "01c3db83-dd81-4722-87a6-f4c76c8c702d",
   "metadata": {
    "tags": []
   },
   "outputs": [],
   "source": [
    "um_psfc = iris.load_cube(um_path, 'surface_air_pressure')\n",
    "print(um_psfc)"
   ]
  },
  {
   "cell_type": "markdown",
   "id": "b668e1ea-f9cf-4b79-82a0-6b4d8758d7be",
   "metadata": {},
   "source": [
    "**Step 7** Create a regridder by using MeshToGridESMRegridder. Make sure the mesh and grid are the correct way round, consult the regridding section of the notebooks for help."
   ]
  },
  {
   "cell_type": "code",
   "execution_count": null,
   "id": "2bfa4b13-9675-4b10-88a0-3810c528d476",
   "metadata": {
    "tags": []
   },
   "outputs": [],
   "source": [
    "# Create the regrider\n",
    "regridder = MeshToGridESMFRegridder(lfric_psfc_t0, um_psfc)"
   ]
  },
  {
   "cell_type": "markdown",
   "id": "bdaa14ff-2df3-4868-b32b-bd62ffb11830",
   "metadata": {},
   "source": [
    "**Step 8** Now, regrid the LFRic data using the regridder you created. Print the result - is your LFRic data regridded?"
   ]
  },
  {
   "cell_type": "code",
   "execution_count": null,
   "id": "005b09cd-1f13-4825-87be-8f16ec08cb1b",
   "metadata": {
    "tags": []
   },
   "outputs": [],
   "source": [
    "result = regridder(lfric_psfc_t0)\n",
    "print(result)"
   ]
  },
  {
   "cell_type": "markdown",
   "id": "744e9bbb-6046-4630-9a36-4f77d4fcca07",
   "metadata": {},
   "source": [
    "**Step 9** Using qplt.pcolormesh plot the regridded LFRic data"
   ]
  },
  {
   "cell_type": "code",
   "execution_count": null,
   "id": "627a36bc-90b8-49bd-8f44-a801dd0be26b",
   "metadata": {
    "tags": []
   },
   "outputs": [],
   "source": [
    "qplt.pcolormesh(result)"
   ]
  },
  {
   "cell_type": "markdown",
   "id": "10daa415-67ef-455b-8311-a43cd9329f52",
   "metadata": {},
   "source": [
    "**Step 10** We can use the UM data loaded as reference for the regridding to compare to the reggrided LFRic data.\\\n",
    "Now select the first timestep of the UM data loaded in step 6"
   ]
  },
  {
   "cell_type": "code",
   "execution_count": null,
   "id": "c8624c43-82a2-427e-8482-23bd08d396e2",
   "metadata": {
    "tags": []
   },
   "outputs": [],
   "source": [
    "um_psfc_t0 = um_psfc[0]"
   ]
  },
  {
   "cell_type": "markdown",
   "id": "df92fa5e-10b6-4aed-82c6-534b36b65e07",
   "metadata": {},
   "source": [
    "**Step 11** Now calulate the difference between the LFRic regridded data and native UM data"
   ]
  },
  {
   "cell_type": "code",
   "execution_count": null,
   "id": "802b6161-73cd-46bd-ad13-ad3d1701cf18",
   "metadata": {
    "tags": []
   },
   "outputs": [],
   "source": [
    "difference = result - um_psfc_t0"
   ]
  },
  {
   "cell_type": "markdown",
   "id": "41d722a5-89cf-4c42-b712-e260e45d36dc",
   "metadata": {},
   "source": [
    "**Step 12** Now plot the original UM data and the regridded LFRic data and the difference side by side. \\\n",
    "(hint: use plt.subplot(1,3,1) and try adding a title and coastlines to the plot)"
   ]
  },
  {
   "cell_type": "code",
   "execution_count": null,
   "id": "1ac432aa-f7db-4b88-b58d-b1b631943f37",
   "metadata": {
    "tags": []
   },
   "outputs": [],
   "source": [
    "qplt.plt.figure(figsize=(20,12))\n",
    "\n",
    "qplt.plt.subplot(1, 3, 1)\n",
    "qplt.pcolormesh(result)\n",
    "qplt.plt.title(\"LFRic data\")\n",
    "qplt.plt.gca().coastlines()\n",
    "\n",
    "qplt.plt.subplot(1, 3, 2)\n",
    "qplt.pcolormesh(um_psfc_t0)\n",
    "qplt.plt.title(\"UM data\")\n",
    "qplt.plt.gca().coastlines()\n",
    "\n",
    "qplt.plt.subplot(1, 3, 3)\n",
    "qplt.pcolormesh(difference, cmap=\"bwr\")\n",
    "qplt.plt.title('Difference')\n",
    "qplt.plt.gca().coastlines()\n",
    "\n",
    "qplt.plt.show()"
   ]
  }
 ],
 "metadata": {
  "kernelspec": {
   "display_name": "Python 3 (ipykernel)",
   "language": "python",
   "name": "python3"
  },
  "language_info": {
   "codemirror_mode": {
    "name": "ipython",
    "version": 3
   },
   "file_extension": ".py",
   "mimetype": "text/x-python",
   "name": "python",
   "nbconvert_exporter": "python",
   "pygments_lexer": "ipython3",
   "version": "3.9.16"
  },
  "toc-autonumbering": true,
  "toc-showtags": false
 },
 "nbformat": 4,
 "nbformat_minor": 5
}
