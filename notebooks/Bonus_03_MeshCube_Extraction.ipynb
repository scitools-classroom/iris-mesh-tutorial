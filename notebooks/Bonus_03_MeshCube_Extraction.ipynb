{
 "cells": [
  {
   "cell_type": "markdown",
   "id": "c7f6934b-609c-4f7a-9a26-021fe8471d26",
   "metadata": {},
   "source": [
    "# Bonus 03: Extract a regional mesh-cube with Iris\n",
    "\n",
    "While GeoVista provides the efficient tools for mesh region extraction, it and Iris know nothing about one another. So, to calculate a regionally-extracted _Iris cube_, GeoVista can do the hard work of determining the subset of cells required, but you must then \"reconstruct\" an Iris cube from that information. For now, at least, there are no ready-made tools for this (either in Iris or GeoVista).  \n",
    "\n",
    "The process requires a few steps, which we can summarise as :\n",
    "  1. Record, on the original global PolyData, the original face indices of each of the cells\n",
    "  1. Perform extraction (by BBox or otherwise) to get a regional PolyData\n",
    "  1. Get the face-indices of the selected cells from the regional PolyData  \n",
    "  1. Index the Iris cube with the selected indices, on the mesh dimension, to extract the regional parts\n",
    "  1. Construct and attach a suitable Iris mesh to represent the extracted region\n",
    "\n",
    "(Note: the last step itself is not strictly necessary. It may be sufficent to have a regional data cube with a notional \"mesh dimension\", but which does not possess an actual Iris mesh.)\n",
    "\n",
    "---\n",
    "**First, we just repeat some of the imports and code from 'Sec_05_Region_Extraction'**\n",
    "\n",
    "to get a global mesh-cube and a PolyData derived from it."
   ]
  },
  {
   "cell_type": "code",
   "execution_count": null,
   "id": "0d189559-f75e-4872-a4bb-6509393c4394",
   "metadata": {
    "tags": []
   },
   "outputs": [],
   "source": [
    "# Fetch a single cube of test data\n",
    "from testdata_fetching import lfric_rh_singletime_2d\n",
    "lfric_rh = lfric_rh_singletime_2d()\n",
    "#lfric_rh"
   ]
  },
  {
   "cell_type": "code",
   "execution_count": null,
   "id": "db0280ff-3ebd-42c9-a9eb-8f9c8117eeee",
   "metadata": {
    "tags": []
   },
   "outputs": [],
   "source": [
    "# Convert to a PyVista.PolyData\n",
    "from pv_conversions import pv_from_lfric_cube\n",
    "pv_global_rh = pv_from_lfric_cube(lfric_rh)\n",
    "#pv_global_rh"
   ]
  },
  {
   "cell_type": "code",
   "execution_count": null,
   "id": "a72e1c20-7edf-48da-8ef1-4fe6f849e216",
   "metadata": {
    "tags": []
   },
   "outputs": [],
   "source": [
    "# Define a lat-lon region to extract\n",
    "from geovista.geodesic import BBox\n",
    "\n",
    "lon_min = -15\n",
    "lon_max = 55\n",
    "lat_min = -5\n",
    "lat_max = 35\n",
    "\n",
    "bbox = BBox(lons=[lon_min, lon_max, lon_max, lon_min], lats=[lat_min, lat_min, lat_max, lat_max])"
   ]
  },
  {
   "cell_type": "code",
   "execution_count": null,
   "id": "e170c19b-84c8-46df-bb69-b09c96403ca1",
   "metadata": {
    "tags": []
   },
   "outputs": [],
   "source": [
    "# 'Apply' the regiona to the PolyData object\n",
    "pv_regional_rh = bbox.enclosed(pv_global_rh)\n",
    "pv_regional_rh"
   ]
  },
  {
   "cell_type": "markdown",
   "id": "8cb5ed82-a285-4115-bc4c-bbe6d7596bce",
   "metadata": {
    "tags": []
   },
   "source": [
    "---\n",
    "## Now the meshcube extraction, as a sequence of steps ...\n",
    "\n",
    "\n",
    "### Step 1: Add an auxiliary array to our _global_ PolyData\n",
    "This is to record, for each PolyData cell, the original (face) index which that cell has.\n",
    "\n",
    "Note: We use numpy.arange() to construct a counting sequence, and make this a new array on the PolyData object, by assigning to a index-name."
   ]
  },
  {
   "cell_type": "code",
   "execution_count": null,
   "id": "8a82144d-6452-4026-9cd7-96d4b78dbdcd",
   "metadata": {
    "tags": []
   },
   "outputs": [],
   "source": [
    "import numpy as np\n",
    "face_inds = np.arange(pv_global_rh.n_cells)\n",
    "# Assign PolyData[<a-string>] to create a new attached array.\n",
    "pv_global_rh.cell_data['original_face_indices'] = face_inds"
   ]
  },
  {
   "cell_type": "markdown",
   "id": "a979d8a0-fe1c-4a18-afc7-ea0dd005406d",
   "metadata": {},
   "source": [
    "---\n",
    "\n",
    "### Step 2: Extract with your Bbox to get a regional PolyData, and show the result.\n",
    "\"Enclose\" your global data with the Bounding Box as done in  [Section 05](./Sec_05_RegionExtraction.ipynb) and for demonstration above."
   ]
  },
  {
   "cell_type": "code",
   "execution_count": null,
   "id": "f7dfaa88-43d6-4f4e-8f40-ce4ff4a594d4",
   "metadata": {
    "tags": []
   },
   "outputs": [],
   "source": [
    "# 'Apply' the region to the PolyData object.\n",
    "pv_regional_rh = bbox.enclosed(pv_global_rh)\n",
    "pv_regional_rh"
   ]
  },
  {
   "cell_type": "markdown",
   "id": "d81ce1f6-68ba-423b-be95-130658bf3892",
   "metadata": {},
   "source": [
    "You can see that the new version of the extracted (regional) data now has an ***extra*** attached data array, \"`original_face_indices`\", which is derived from the one we added to the global data, and which holds the face indices of the _selected_ cells.\n",
    "\n",
    "---\n",
    "\n",
    "### Step 3: Fetch the indices array from the regional PolyData, by indexing with the array name.\n",
    "and show the result."
   ]
  },
  {
   "cell_type": "code",
   "execution_count": null,
   "id": "60ef0230-3864-4dbb-8838-42047a680ab0",
   "metadata": {
    "tags": []
   },
   "outputs": [],
   "source": [
    "# Get the remaining face indices, to use for indexing the Cube.\n",
    "region_indices = pv_regional_rh[\"original_face_indices\"]\n",
    "region_indices"
   ]
  },
  {
   "cell_type": "markdown",
   "id": "8c3f341f-f33a-4c9e-93f0-bbce49517c00",
   "metadata": {},
   "source": [
    "This contains the original face-indices of all the cells which fall within the region, _i.e. which faces those were in the global mesh_.\n",
    "\n",
    "We can now apply these via indexing, to select only those cells *from the Iris cube*.\n",
    "\n",
    "### Step 4: Apply these cells as an index to the 'mesh dimension' of the original Iris lfric-rh cube\n",
    ".. and print that out."
   ]
  },
  {
   "cell_type": "code",
   "execution_count": null,
   "id": "cd812f99-73b3-4247-a975-a59bb49a42aa",
   "metadata": {
    "tags": []
   },
   "outputs": [],
   "source": [
    "lfric_rh_region = lfric_rh[..., region_indices]\n",
    "lfric_rh_region"
   ]
  },
  {
   "cell_type": "markdown",
   "id": "6d102893-e661-412d-a7c1-5de9964ce72c",
   "metadata": {},
   "source": [
    "This new cube contains the mesh data within our selected region.\n",
    "\n",
    "However, there is a catch here: Once indexed, our cube ***no longer has a mesh***. You can see this in the printout, which lists \"Auxiliary coordinates\" but no \"Mesh coordinates\". This problem will probably be fixed in future.  See [here in the Iris docs](https://scitools-iris.readthedocs.io/en/latest/further_topics/ugrid/operations.html#region-extraction) for a discussion. For now, what we need to do is to re-create a mesh for the regional cube.\n",
    "We do that in a few further steps ...\n",
    "\n",
    "---\n",
    "\n",
    "### Step 5a: Get the X and Y-axis coordinates from the region cube."
   ]
  },
  {
   "cell_type": "code",
   "execution_count": null,
   "id": "2d43b8c0-2a25-4dee-8610-c26438209eef",
   "metadata": {
    "tags": []
   },
   "outputs": [],
   "source": [
    "x_coord = lfric_rh_region.coord('longitude')\n",
    "y_coord = lfric_rh_region.coord('latitude')"
   ]
  },
  {
   "cell_type": "markdown",
   "id": "387b22d4-78c9-4c88-a320-9c8d4be8e1fb",
   "metadata": {},
   "source": [
    "### Step 5b: Create a new `iris.experimental.ugrid.Mesh`-class object, passing the X,Y coords as arguments"
   ]
  },
  {
   "cell_type": "code",
   "execution_count": null,
   "id": "d6b2345b-1cca-4f2e-8cc7-c5ab9fc6aab9",
   "metadata": {
    "tags": []
   },
   "outputs": [],
   "source": [
    "from iris.experimental.ugrid.mesh import Mesh\n",
    "mesh = Mesh.from_coords(x_coord, y_coord)\n",
    "\n",
    "#print(mesh)"
   ]
  },
  {
   "cell_type": "markdown",
   "id": "767e4c6c-4665-4e58-9bb2-8b1a7ea8749a",
   "metadata": {},
   "source": [
    "---\n",
    "### Step 5c:  Call `Mesh.to_MeshCoords` to create a pair of `MeshCoord`s containing this mesh\n",
    "Note: You must specify the keyword `location=\"face\"`:  This matches the data location of the original data, i.e. the data cells are faces."
   ]
  },
  {
   "cell_type": "code",
   "execution_count": null,
   "id": "8c84b276-36b7-435f-a4da-7e8fbf104d8d",
   "metadata": {
    "tags": []
   },
   "outputs": [],
   "source": [
    "mesh_coords = mesh.to_MeshCoords(location=\"face\")\n",
    "mesh_coords"
   ]
  },
  {
   "cell_type": "markdown",
   "id": "365ca473-5e01-4e3d-9731-6309362dd07a",
   "metadata": {},
   "source": [
    "---\n",
    "### Step 5d : Use `Cube.remove_coord` and `Cube.add_aux_coord` to replace each AuxCoord with its corresponding `MeshCoord` from the previous step. \n",
    "Note: For 'add_aux_coord', you also need to specify the relevant cube dimension(s). See Iris documentation for [Cube.add_aux_coord](https://scitools-iris.readthedocs.io/en/latest/generated/api/iris/cube.html?highlight=add_aux_coord#iris.cube.Cube.add_aux_coord)  \n",
    ".. and show the cube .."
   ]
  },
  {
   "cell_type": "code",
   "execution_count": null,
   "id": "fb555e8c-223e-41b2-a27f-eadb2bca4b46",
   "metadata": {
    "tags": []
   },
   "outputs": [],
   "source": [
    "lfric_rh_region.remove_coord('longitude')\n",
    "lfric_rh_region.remove_coord('latitude')"
   ]
  },
  {
   "cell_type": "code",
   "execution_count": null,
   "id": "4b1c7d7f-18b3-44f3-bf89-688e2e60658d",
   "metadata": {
    "tags": []
   },
   "outputs": [],
   "source": [
    "xco, yco = mesh_coords\n",
    "\n",
    "lfric_rh_region.add_aux_coord(xco, 0)\n",
    "lfric_rh_region.add_aux_coord(yco, 0)\n",
    "\n",
    "# Result : a regional Mesh-Cube with a subset of the original faces.\n",
    "lfric_rh_region"
   ]
  },
  {
   "cell_type": "markdown",
   "id": "98494731-0cb2-4747-b370-4a54ef3ae273",
   "metadata": {},
   "source": [
    "---\n",
    "\n",
    "## Plot this to see what we got.\n",
    "Use the techniques as above, converting with `pv_from_lfric_cube` and plotting.\n"
   ]
  },
  {
   "cell_type": "code",
   "execution_count": null,
   "id": "8fbf4066-7806-4bcb-9f06-d8e0c1a9414d",
   "metadata": {
    "tags": []
   },
   "outputs": [],
   "source": [
    "pv = pv_from_lfric_cube(lfric_rh_region)\n",
    "pv.plot()"
   ]
  },
  {
   "cell_type": "markdown",
   "id": "5b1b5c9b-1835-4fb9-81cd-0217cab7bed4",
   "metadata": {},
   "source": [
    "----\n",
    "\n",
    "**Investigation:** It is useful to add some extra background information to make this more visible.\n",
    "\n",
    "As a minimum you can use `plotter.add_coastlines()`.\n",
    "\n",
    "Another useful one is `plotter.add_base_layer()`  \n",
    "**Question :  what does that actually do ?**"
   ]
  },
  {
   "cell_type": "code",
   "execution_count": null,
   "id": "b2c8eccc-c1cb-4af2-97dd-4c362f8f4d35",
   "metadata": {
    "tags": []
   },
   "outputs": [],
   "source": [
    "from geovista import GeoPlotter\n",
    "plotter = GeoPlotter()\n",
    "plotter.add_mesh(pv)\n",
    "plotter.add_coastlines()\n",
    "plotter.add_base_layer()\n",
    "plotter.show()"
   ]
  }
 ],
 "metadata": {
  "kernelspec": {
   "display_name": "Python 3 (ipykernel)",
   "language": "python",
   "name": "python3"
  },
  "language_info": {
   "codemirror_mode": {
    "name": "ipython",
    "version": 3
   },
   "file_extension": ".py",
   "mimetype": "text/x-python",
   "name": "python",
   "nbconvert_exporter": "python",
   "pygments_lexer": "ipython3",
   "version": "3.9.16"
  }
 },
 "nbformat": 4,
 "nbformat_minor": 5
}
