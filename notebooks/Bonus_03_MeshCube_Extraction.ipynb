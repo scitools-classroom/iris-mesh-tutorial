{
 "cells": [
  {
   "cell_type": "markdown",
   "id": "c7f6934b-609c-4f7a-9a26-021fe8471d26",
   "metadata": {},
   "source": [
    "# Bonus 03: Extract a regional mesh-cube with Iris\n",
    "\n",
    "While GeoVista provides the efficient tools for mesh region extraction, it and Iris know nothing about one another.  \n",
    "So, to calculate a regionally-extracted _Iris cube_, GeoVista can do the hard work of determining the subset of cells required, but you must then \"reconstruct\" an Iris cube from that information.  \n",
    "For now, at least, there are no ready-made tools for this (either in Iris or Geovista).  \n",
    "\n",
    "The process requires a few steps, which we can summarise as :\n",
    "  1. record, on the original global PolyData, the original face indices of each of the cells\n",
    "  1. perform extraction (by BBox or otherwise) to get a regional PolyData\n",
    "  1. get the face-indices of the selected cells from the regional PolyData  \n",
    "  1. index the Iris cube with the selected indices, on the mesh dimension, to extract the regional parts\n",
    "  1. construct and attach a suitable Iris mesh to represent the extracted region\n",
    "\n",
    "( Note: the last step itself is not strictly necessary. It may be sufficent to have a regional data cube with a notional \"mesh dimension\", but which does not possess an actual Iris mesh. )\n",
    "\n",
    "---\n",
    "\n",
    "**First, we just repeat some of the imports + code from 'Sec_04_Region_Extraction'**\n",
    "\n",
    "To get a global mesh-cube and a PolyData derived from it."
   ]
  },
  {
   "cell_type": "code",
   "execution_count": 1,
   "id": "0d189559-f75e-4872-a4bb-6509393c4394",
   "metadata": {},
   "outputs": [
    {
     "data": {
      "text/html": [
       "\n",
       "<style>\n",
       "  a.iris {\n",
       "      text-decoration: none !important;\n",
       "  }\n",
       "  table.iris {\n",
       "      white-space: pre;\n",
       "      border: 1px solid;\n",
       "      border-color: #9c9c9c;\n",
       "      font-family: monaco, monospace;\n",
       "  }\n",
       "  th.iris {\n",
       "      background: #303f3f;\n",
       "      color: #e0e0e0;\n",
       "      border-left: 1px solid;\n",
       "      border-color: #9c9c9c;\n",
       "      font-size: 1.05em;\n",
       "      min-width: 50px;\n",
       "      max-width: 125px;\n",
       "  }\n",
       "  tr.iris :first-child {\n",
       "      border-right: 1px solid #9c9c9c !important;\n",
       "  }\n",
       "  td.iris-title {\n",
       "      background: #d5dcdf;\n",
       "      border-top: 1px solid #9c9c9c;\n",
       "      font-weight: bold;\n",
       "  }\n",
       "  .iris-word-cell {\n",
       "      text-align: left !important;\n",
       "      white-space: pre;\n",
       "  }\n",
       "  .iris-subheading-cell {\n",
       "      padding-left: 2em !important;\n",
       "  }\n",
       "  .iris-inclusion-cell {\n",
       "      padding-right: 1em !important;\n",
       "  }\n",
       "  .iris-panel-body {\n",
       "      padding-top: 0px;\n",
       "  }\n",
       "  .iris-panel-title {\n",
       "      padding-left: 3em;\n",
       "  }\n",
       "  .iris-panel-title {\n",
       "      margin-top: 7px;\n",
       "  }\n",
       "</style>\n",
       "<table class=\"iris\" id=\"139664505186960\">\n",
       "    <tr class=\"iris\">\n",
       "<th class=\"iris iris-word-cell\">Relative Humidity At Screen Level (1)</th>\n",
       "<th class=\"iris iris-word-cell\">--</th>\n",
       "</tr>\n",
       "    <tr class=\"iris\">\n",
       "<td class=\"iris-word-cell iris-subheading-cell\">Shape</td>\n",
       "<td class=\"iris iris-inclusion-cell\">13824</td>\n",
       "</tr>\n",
       "    <tr class=\"iris\">\n",
       "    <td class=\"iris-title iris-word-cell\">Mesh coordinates</td>\n",
       "    <td class=\"iris-title\"></td>\n",
       "</tr>\n",
       "<tr class=\"iris\">\n",
       "    <td class=\"iris-word-cell iris-subheading-cell\">\tlatitude</td>\n",
       "    <td class=\"iris-inclusion-cell\">x</td>\n",
       "</tr>\n",
       "<tr class=\"iris\">\n",
       "    <td class=\"iris-word-cell iris-subheading-cell\">\tlongitude</td>\n",
       "    <td class=\"iris-inclusion-cell\">x</td>\n",
       "</tr>\n",
       "<tr class=\"iris\">\n",
       "    <td class=\"iris-title iris-word-cell\">Mesh</td>\n",
       "    <td class=\"iris-title\"></td>\n",
       "</tr>\n",
       "<tr class=\"iris\">\n",
       "    <td class=\"iris-word-cell iris-subheading-cell\">\tname</td>\n",
       "    <td class=\"iris-word-cell\" colspan=\"1\">Topology data of 2D unstructured mesh</td>\n",
       "</tr>\n",
       "<tr class=\"iris\">\n",
       "    <td class=\"iris-word-cell iris-subheading-cell\">\tlocation</td>\n",
       "    <td class=\"iris-word-cell\" colspan=\"1\">face</td>\n",
       "</tr>\n",
       "<tr class=\"iris\">\n",
       "    <td class=\"iris-title iris-word-cell\">Scalar coordinates</td>\n",
       "    <td class=\"iris-title\"></td>\n",
       "</tr>\n",
       "<tr class=\"iris\">\n",
       "    <td class=\"iris-word-cell iris-subheading-cell\">\tforecast_period</td>\n",
       "    <td class=\"iris-word-cell\" colspan=\"1\">21600 seconds</td>\n",
       "</tr>\n",
       "<tr class=\"iris\">\n",
       "    <td class=\"iris-word-cell iris-subheading-cell\">\tforecast_reference_time</td>\n",
       "    <td class=\"iris-word-cell\" colspan=\"1\">2021-03-24 00:00:00</td>\n",
       "</tr>\n",
       "<tr class=\"iris\">\n",
       "    <td class=\"iris-word-cell iris-subheading-cell\">\ttime</td>\n",
       "    <td class=\"iris-word-cell\" colspan=\"1\">2021-03-24 06:00:00</td>\n",
       "</tr>\n",
       "<tr class=\"iris\">\n",
       "    <td class=\"iris-title iris-word-cell\">Cell methods</td>\n",
       "    <td class=\"iris-title\"></td>\n",
       "</tr>\n",
       "<tr class=\"iris\">\n",
       "    <td class=\"iris-word-cell iris-subheading-cell\">\tpoint</td>\n",
       "    <td class=\"iris-word-cell\" colspan=\"1\">time</td>\n",
       "</tr>\n",
       "<tr class=\"iris\">\n",
       "    <td class=\"iris-title iris-word-cell\">Attributes</td>\n",
       "    <td class=\"iris-title\"></td>\n",
       "</tr>\n",
       "<tr class=\"iris\">\n",
       "    <td class=\"iris-word-cell iris-subheading-cell\">\tConventions</td>\n",
       "    <td class=\"iris-word-cell\" colspan=\"1\">&#x27;CF-1.7&#x27;</td>\n",
       "</tr>\n",
       "<tr class=\"iris\">\n",
       "    <td class=\"iris-word-cell iris-subheading-cell\">\tdescription</td>\n",
       "    <td class=\"iris-word-cell\" colspan=\"1\">&#x27;Created by xios&#x27;</td>\n",
       "</tr>\n",
       "<tr class=\"iris\">\n",
       "    <td class=\"iris-word-cell iris-subheading-cell\">\tinterval_operation</td>\n",
       "    <td class=\"iris-word-cell\" colspan=\"1\">&#x27;6 h&#x27;</td>\n",
       "</tr>\n",
       "<tr class=\"iris\">\n",
       "    <td class=\"iris-word-cell iris-subheading-cell\">\tinterval_write</td>\n",
       "    <td class=\"iris-word-cell\" colspan=\"1\">&#x27;6 h&#x27;</td>\n",
       "</tr>\n",
       "<tr class=\"iris\">\n",
       "    <td class=\"iris-word-cell iris-subheading-cell\">\tonline_operation</td>\n",
       "    <td class=\"iris-word-cell\" colspan=\"1\">&#x27;instant&#x27;</td>\n",
       "</tr>\n",
       "<tr class=\"iris\">\n",
       "    <td class=\"iris-word-cell iris-subheading-cell\">\ttitle</td>\n",
       "    <td class=\"iris-word-cell\" colspan=\"1\">&#x27;Created by xios&#x27;</td>\n",
       "</tr>\n",
       "</table>\n",
       "        "
      ],
      "text/plain": [
       "<iris 'Cube' of relative_humidity_at_screen_level / (1) (-- : 13824)>"
      ]
     },
     "execution_count": 1,
     "metadata": {},
     "output_type": "execute_result"
    }
   ],
   "source": [
    "# Fetch a single cube of test data\n",
    "from testdata_fetching import lfric_rh_singletime_2d\n",
    "lfric_rh = lfric_rh_singletime_2d()\n",
    "lfric_rh"
   ]
  },
  {
   "cell_type": "code",
   "execution_count": 2,
   "id": "db0280ff-3ebd-42c9-a9eb-8f9c8117eeee",
   "metadata": {},
   "outputs": [],
   "source": [
    "# Convert to a PyVista.PolyData\n",
    "from pv_conversions import pv_from_lfric_cube\n",
    "pv_global_rh = pv_from_lfric_cube(lfric_rh)"
   ]
  },
  {
   "cell_type": "code",
   "execution_count": 3,
   "id": "a72e1c20-7edf-48da-8ef1-4fe6f849e216",
   "metadata": {},
   "outputs": [],
   "source": [
    "# Define a lat-lon region to extract -- EXACTLY AS BEFORE\n",
    "from geovista.geodesic import BBox\n",
    "bbox = BBox(lons=[0, 70, 70, 0], lats=[-25, -25, 45, 45])"
   ]
  },
  {
   "cell_type": "code",
   "execution_count": 4,
   "id": "f7dfaa88-43d6-4f4e-8f40-ce4ff4a594d4",
   "metadata": {},
   "outputs": [
    {
     "data": {
      "text/html": [
       "<table><tr><th>Header</th><th>Data Arrays</th></tr><tr><td>\n",
       "<table>\n",
       "<tr><th>PolyData</th><th>Information</th></tr>\n",
       "<tr><td>N Cells</td><td>1766</td></tr>\n",
       "<tr><td>N Points</td><td>1854</td></tr>\n",
       "<tr><td>N Strips</td><td>0</td></tr>\n",
       "<tr><td>X Bounds</td><td>2.334e-01, 1.000e+00</td></tr>\n",
       "<tr><td>Y Bounds</td><td>-3.272e-02, 9.469e-01</td></tr>\n",
       "<tr><td>Z Bounds</td><td>-5.292e-01, 7.935e-01</td></tr>\n",
       "<tr><td>N Arrays</td><td>5</td></tr>\n",
       "</table>\n",
       "\n",
       "</td><td>\n",
       "<table>\n",
       "<tr><th>Name</th><th>Field</th><th>Type</th><th>N Comp</th><th>Min</th><th>Max</th></tr>\n",
       "<tr><td>SelectedPoints</td><td>Points</td><td>uint8</td><td>1</td><td>0.000e+00</td><td>1.000e+00</td></tr>\n",
       "<tr><td><b>relative_humidity_at_screen_level</b></td><td>Cells</td><td>float64</td><td>1</td><td>4.384e+00</td><td>1.068e+02</td></tr>\n",
       "<tr><td>gvCRS</td><td>Fields</td><td><U821</td><td>1</td><td>nan</td><td>nan</td></tr>\n",
       "<tr><td>gvRadius</td><td>Fields</td><td>float64</td><td>1</td><td>1.000e+00</td><td>1.000e+00</td></tr>\n",
       "<tr><td>gvName</td><td>Fields</td><td><U33</td><td>1</td><td>nan</td><td>nan</td></tr>\n",
       "</table>\n",
       "\n",
       "</td></tr> </table>"
      ],
      "text/plain": [
       "PolyData (0x7f0615a06fa0)\n",
       "  N Cells:\t1766\n",
       "  N Points:\t1854\n",
       "  N Strips:\t0\n",
       "  X Bounds:\t2.334e-01, 1.000e+00\n",
       "  Y Bounds:\t-3.272e-02, 9.469e-01\n",
       "  Z Bounds:\t-5.292e-01, 7.935e-01\n",
       "  N Arrays:\t5"
      ]
     },
     "execution_count": 4,
     "metadata": {},
     "output_type": "execute_result"
    }
   ],
   "source": [
    "# 'Apply' the region to the PolyData object.\n",
    "pv_regional_rh = bbox.enclosed(pv_global_rh)\n",
    "pv_regional_rh"
   ]
  },
  {
   "cell_type": "markdown",
   "id": "8cb5ed82-a285-4115-bc4c-bbe6d7596bce",
   "metadata": {},
   "source": [
    "---\n",
    "## Now the meshcube extraction, as a sequence of steps ...\n",
    "\n",
    "\n",
    "### Step 1 : Add an auxiliary array to our _global_ PolyData\n",
    "This is to record, for each PolyData cell, the original (face) index which that cell has.\n",
    "\n",
    "Note : we use numpy.arange() to construct a counting sequence, and make this a new array on the PolyData object, by assigning to a index-name."
   ]
  },
  {
   "cell_type": "code",
   "execution_count": 5,
   "id": "8a82144d-6452-4026-9cd7-96d4b78dbdcd",
   "metadata": {},
   "outputs": [],
   "source": [
    "import numpy as np\n",
    "face_inds = np.arange(pv_global_rh.n_cells)\n",
    "# Assign PolyData[<a-string>] to create a new attached array.\n",
    "pv_global_rh.cell_data['original_face_indices'] = face_inds"
   ]
  },
  {
   "cell_type": "markdown",
   "id": "a979d8a0-fe1c-4a18-afc7-ea0dd005406d",
   "metadata": {},
   "source": [
    "---\n",
    "\n",
    "### Step 2 : Extract with your Bbox to get a regional PolyData, and show the result.\n",
    "This code is exactly the same as the previous time we did this."
   ]
  },
  {
   "cell_type": "code",
   "execution_count": 6,
   "id": "2913273e-071b-4226-86a9-1d2713801d01",
   "metadata": {},
   "outputs": [
    {
     "data": {
      "text/html": [
       "<table><tr><th>Header</th><th>Data Arrays</th></tr><tr><td>\n",
       "<table>\n",
       "<tr><th>PolyData</th><th>Information</th></tr>\n",
       "<tr><td>N Cells</td><td>1766</td></tr>\n",
       "<tr><td>N Points</td><td>1854</td></tr>\n",
       "<tr><td>N Strips</td><td>0</td></tr>\n",
       "<tr><td>X Bounds</td><td>2.334e-01, 1.000e+00</td></tr>\n",
       "<tr><td>Y Bounds</td><td>-3.272e-02, 9.469e-01</td></tr>\n",
       "<tr><td>Z Bounds</td><td>-5.292e-01, 7.935e-01</td></tr>\n",
       "<tr><td>N Arrays</td><td>6</td></tr>\n",
       "</table>\n",
       "\n",
       "</td><td>\n",
       "<table>\n",
       "<tr><th>Name</th><th>Field</th><th>Type</th><th>N Comp</th><th>Min</th><th>Max</th></tr>\n",
       "<tr><td>SelectedPoints</td><td>Points</td><td>uint8</td><td>1</td><td>0.000e+00</td><td>1.000e+00</td></tr>\n",
       "<tr><td>relative_humidity_at_screen_level</td><td>Cells</td><td>float64</td><td>1</td><td>4.384e+00</td><td>1.068e+02</td></tr>\n",
       "<tr><td><b>original_face_indices</b></td><td>Cells</td><td>int64</td><td>1</td><td>2.300e+01</td><td>1.148e+04</td></tr>\n",
       "<tr><td>gvCRS</td><td>Fields</td><td><U821</td><td>1</td><td>nan</td><td>nan</td></tr>\n",
       "<tr><td>gvRadius</td><td>Fields</td><td>float64</td><td>1</td><td>1.000e+00</td><td>1.000e+00</td></tr>\n",
       "<tr><td>gvName</td><td>Fields</td><td><U33</td><td>1</td><td>nan</td><td>nan</td></tr>\n",
       "</table>\n",
       "\n",
       "</td></tr> </table>"
      ],
      "text/plain": [
       "PolyData (0x7f0615540460)\n",
       "  N Cells:\t1766\n",
       "  N Points:\t1854\n",
       "  N Strips:\t0\n",
       "  X Bounds:\t2.334e-01, 1.000e+00\n",
       "  Y Bounds:\t-3.272e-02, 9.469e-01\n",
       "  Z Bounds:\t-5.292e-01, 7.935e-01\n",
       "  N Arrays:\t6"
      ]
     },
     "execution_count": 6,
     "metadata": {},
     "output_type": "execute_result"
    }
   ],
   "source": [
    "pv_regional_rh = bbox.enclosed(pv_global_rh)\n",
    "pv_regional_rh"
   ]
  },
  {
   "cell_type": "markdown",
   "id": "d81ce1f6-68ba-423b-be95-130658bf3892",
   "metadata": {},
   "source": [
    "You can see that the new version of the extracted (regional) data now has an ***extra*** attached data array, \"`original_face_indices`\", which is derived from the one we added to the global data, and which holds the face indices of the _selected_ cells.\n",
    "\n",
    "---\n",
    "\n",
    "**Step 3 : Fetch the indices array from the regional PolyData, by indexing with the array name.**  \n",
    "and show the result."
   ]
  },
  {
   "cell_type": "code",
   "execution_count": 7,
   "id": "60ef0230-3864-4dbb-8838-42047a680ab0",
   "metadata": {},
   "outputs": [
    {
     "data": {
      "text/plain": [
       "pyvista_ndarray([   23,    24,    25, ..., 11483, 11484, 11485])"
      ]
     },
     "execution_count": 7,
     "metadata": {},
     "output_type": "execute_result"
    }
   ],
   "source": [
    "# Get the remaining face indices, to use for indexing the Cube.\n",
    "region_indices = pv_regional_rh[\"original_face_indices\"]\n",
    "region_indices"
   ]
  },
  {
   "cell_type": "markdown",
   "id": "8c3f341f-f33a-4c9e-93f0-bbce49517c00",
   "metadata": {},
   "source": [
    "This contains the original face-indices of all the cells which fall within the region, _i.e. which faces those were in the global mesh_.\n",
    "\n",
    "We can now apply these via indexing, to select only those cells *from the Iris cube*.\n",
    "\n",
    "**Step 4 : Apply these cells as an index to the 'mesh dimension' of the original Iris lfric-rh cube**  \n",
    ".. and print that out."
   ]
  },
  {
   "cell_type": "code",
   "execution_count": 8,
   "id": "cd812f99-73b3-4247-a975-a59bb49a42aa",
   "metadata": {},
   "outputs": [
    {
     "data": {
      "text/html": [
       "\n",
       "<style>\n",
       "  a.iris {\n",
       "      text-decoration: none !important;\n",
       "  }\n",
       "  table.iris {\n",
       "      white-space: pre;\n",
       "      border: 1px solid;\n",
       "      border-color: #9c9c9c;\n",
       "      font-family: monaco, monospace;\n",
       "  }\n",
       "  th.iris {\n",
       "      background: #303f3f;\n",
       "      color: #e0e0e0;\n",
       "      border-left: 1px solid;\n",
       "      border-color: #9c9c9c;\n",
       "      font-size: 1.05em;\n",
       "      min-width: 50px;\n",
       "      max-width: 125px;\n",
       "  }\n",
       "  tr.iris :first-child {\n",
       "      border-right: 1px solid #9c9c9c !important;\n",
       "  }\n",
       "  td.iris-title {\n",
       "      background: #d5dcdf;\n",
       "      border-top: 1px solid #9c9c9c;\n",
       "      font-weight: bold;\n",
       "  }\n",
       "  .iris-word-cell {\n",
       "      text-align: left !important;\n",
       "      white-space: pre;\n",
       "  }\n",
       "  .iris-subheading-cell {\n",
       "      padding-left: 2em !important;\n",
       "  }\n",
       "  .iris-inclusion-cell {\n",
       "      padding-right: 1em !important;\n",
       "  }\n",
       "  .iris-panel-body {\n",
       "      padding-top: 0px;\n",
       "  }\n",
       "  .iris-panel-title {\n",
       "      padding-left: 3em;\n",
       "  }\n",
       "  .iris-panel-title {\n",
       "      margin-top: 7px;\n",
       "  }\n",
       "</style>\n",
       "<table class=\"iris\" id=\"139664108791120\">\n",
       "    <tr class=\"iris\">\n",
       "<th class=\"iris iris-word-cell\">Relative Humidity At Screen Level (1)</th>\n",
       "<th class=\"iris iris-word-cell\">--</th>\n",
       "</tr>\n",
       "    <tr class=\"iris\">\n",
       "<td class=\"iris-word-cell iris-subheading-cell\">Shape</td>\n",
       "<td class=\"iris iris-inclusion-cell\">1766</td>\n",
       "</tr>\n",
       "    <tr class=\"iris\">\n",
       "    <td class=\"iris-title iris-word-cell\">Auxiliary coordinates</td>\n",
       "    <td class=\"iris-title\"></td>\n",
       "</tr>\n",
       "<tr class=\"iris\">\n",
       "    <td class=\"iris-word-cell iris-subheading-cell\">\tlatitude</td>\n",
       "    <td class=\"iris-inclusion-cell\">x</td>\n",
       "</tr>\n",
       "<tr class=\"iris\">\n",
       "    <td class=\"iris-word-cell iris-subheading-cell\">\tlongitude</td>\n",
       "    <td class=\"iris-inclusion-cell\">x</td>\n",
       "</tr>\n",
       "<tr class=\"iris\">\n",
       "    <td class=\"iris-title iris-word-cell\">Scalar coordinates</td>\n",
       "    <td class=\"iris-title\"></td>\n",
       "</tr>\n",
       "<tr class=\"iris\">\n",
       "    <td class=\"iris-word-cell iris-subheading-cell\">\tforecast_period</td>\n",
       "    <td class=\"iris-word-cell\" colspan=\"1\">21600 seconds</td>\n",
       "</tr>\n",
       "<tr class=\"iris\">\n",
       "    <td class=\"iris-word-cell iris-subheading-cell\">\tforecast_reference_time</td>\n",
       "    <td class=\"iris-word-cell\" colspan=\"1\">2021-03-24 00:00:00</td>\n",
       "</tr>\n",
       "<tr class=\"iris\">\n",
       "    <td class=\"iris-word-cell iris-subheading-cell\">\ttime</td>\n",
       "    <td class=\"iris-word-cell\" colspan=\"1\">2021-03-24 06:00:00</td>\n",
       "</tr>\n",
       "<tr class=\"iris\">\n",
       "    <td class=\"iris-title iris-word-cell\">Cell methods</td>\n",
       "    <td class=\"iris-title\"></td>\n",
       "</tr>\n",
       "<tr class=\"iris\">\n",
       "    <td class=\"iris-word-cell iris-subheading-cell\">\tpoint</td>\n",
       "    <td class=\"iris-word-cell\" colspan=\"1\">time</td>\n",
       "</tr>\n",
       "<tr class=\"iris\">\n",
       "    <td class=\"iris-title iris-word-cell\">Attributes</td>\n",
       "    <td class=\"iris-title\"></td>\n",
       "</tr>\n",
       "<tr class=\"iris\">\n",
       "    <td class=\"iris-word-cell iris-subheading-cell\">\tConventions</td>\n",
       "    <td class=\"iris-word-cell\" colspan=\"1\">&#x27;CF-1.7&#x27;</td>\n",
       "</tr>\n",
       "<tr class=\"iris\">\n",
       "    <td class=\"iris-word-cell iris-subheading-cell\">\tdescription</td>\n",
       "    <td class=\"iris-word-cell\" colspan=\"1\">&#x27;Created by xios&#x27;</td>\n",
       "</tr>\n",
       "<tr class=\"iris\">\n",
       "    <td class=\"iris-word-cell iris-subheading-cell\">\tinterval_operation</td>\n",
       "    <td class=\"iris-word-cell\" colspan=\"1\">&#x27;6 h&#x27;</td>\n",
       "</tr>\n",
       "<tr class=\"iris\">\n",
       "    <td class=\"iris-word-cell iris-subheading-cell\">\tinterval_write</td>\n",
       "    <td class=\"iris-word-cell\" colspan=\"1\">&#x27;6 h&#x27;</td>\n",
       "</tr>\n",
       "<tr class=\"iris\">\n",
       "    <td class=\"iris-word-cell iris-subheading-cell\">\tonline_operation</td>\n",
       "    <td class=\"iris-word-cell\" colspan=\"1\">&#x27;instant&#x27;</td>\n",
       "</tr>\n",
       "<tr class=\"iris\">\n",
       "    <td class=\"iris-word-cell iris-subheading-cell\">\ttitle</td>\n",
       "    <td class=\"iris-word-cell\" colspan=\"1\">&#x27;Created by xios&#x27;</td>\n",
       "</tr>\n",
       "</table>\n",
       "        "
      ],
      "text/plain": [
       "<iris 'Cube' of relative_humidity_at_screen_level / (1) (-- : 1766)>"
      ]
     },
     "execution_count": 8,
     "metadata": {},
     "output_type": "execute_result"
    }
   ],
   "source": [
    "lfric_rh_region = lfric_rh[..., region_indices]\n",
    "lfric_rh_region"
   ]
  },
  {
   "cell_type": "markdown",
   "id": "6d102893-e661-412d-a7c1-5de9964ce72c",
   "metadata": {},
   "source": [
    "This new cube contains the mesh data within our selected region.\n",
    "\n",
    "However, there is a catch here :  Once indexed, our cube ***no longer has a mesh***.  \n",
    "You can see this in the printout, which lists \"Auxiliary coordinates\" but no \"Mesh coordinates\".\n",
    "\n",
    "This problem will probably be fixed in future.  See [here in the Iris docs](https://scitools-iris.readthedocs.io/en/latest/further_topics/ugrid/operations.html#region-extraction) for a discussion.\n",
    "\n",
    "For now, what we need to do is to re-create a mesh for the regional cube.\n",
    "We do that in a few further steps ...\n",
    "\n",
    "---\n",
    "\n",
    "**Step 5a : Get the X and Y-axis coordinates from the region cube.**\n",
    "Use `Cube.coords('longitude')` etc."
   ]
  },
  {
   "cell_type": "code",
   "execution_count": 9,
   "id": "2d43b8c0-2a25-4dee-8610-c26438209eef",
   "metadata": {},
   "outputs": [],
   "source": [
    "x_coord = lfric_rh_region.coord('longitude')\n",
    "y_coord = lfric_rh_region.coord('latitude')"
   ]
  },
  {
   "cell_type": "markdown",
   "id": "387b22d4-78c9-4c88-a320-9c8d4be8e1fb",
   "metadata": {},
   "source": [
    "**Step 5b : Create a new `iris.experimental.ugrid.Mesh`-class object, passing the X,Y coords as arguments**"
   ]
  },
  {
   "cell_type": "code",
   "execution_count": 10,
   "id": "d6b2345b-1cca-4f2e-8cc7-c5ab9fc6aab9",
   "metadata": {},
   "outputs": [],
   "source": [
    "from iris.experimental.ugrid.mesh import Mesh\n",
    "mesh = Mesh.from_coords(x_coord, y_coord)"
   ]
  },
  {
   "cell_type": "markdown",
   "id": "be9af3e5-ba74-4ab0-9a52-bf80a50a6334",
   "metadata": {},
   "source": [
    "( Step 2a : **`print()` the Mesh object**  \n",
    "Note : `Mesh` does not provide a notebook display method.  \n",
    ")"
   ]
  },
  {
   "cell_type": "code",
   "execution_count": 11,
   "id": "12e8fba7-2f5b-43c9-a95a-0c487364678c",
   "metadata": {},
   "outputs": [
    {
     "name": "stdout",
     "output_type": "stream",
     "text": [
      "Mesh : 'unknown'\n",
      "    topology_dimension: 2\n",
      "    node\n",
      "        node_dimension: 'Mesh2d_node'\n",
      "        node coordinates\n",
      "            <AuxCoord: longitude / (degrees)  <lazy>  shape(7064,)>\n",
      "            <AuxCoord: latitude / (degrees)  <lazy>  shape(7064,)>\n",
      "    face\n",
      "        face_dimension: 'Mesh2d_face'\n",
      "        face_node_connectivity: <Connectivity: unknown / (unknown)  <lazy>  shape(1766, 4)>\n",
      "        face coordinates\n",
      "            <AuxCoord: longitude / (degrees)  <lazy>  shape(1766,)>\n",
      "            <AuxCoord: latitude / (degrees)  <lazy>  shape(1766,)>\n"
     ]
    }
   ],
   "source": [
    "print(mesh)"
   ]
  },
  {
   "cell_type": "markdown",
   "id": "767e4c6c-4665-4e58-9bb2-8b1a7ea8749a",
   "metadata": {},
   "source": [
    "---\n",
    "**Step 5c :  Call `Mesh.to_MeshCoords` to create a pair of `MeshCoord`s containing this mesh**  \n",
    "Note : you must specify the keyword `location=\"face\"` :  This matches the data location of the original data -- i.e. the data cells are faces."
   ]
  },
  {
   "cell_type": "code",
   "execution_count": 12,
   "id": "8c84b276-36b7-435f-a4da-7e8fbf104d8d",
   "metadata": {},
   "outputs": [
    {
     "data": {
      "text/plain": [
       "(<MeshCoord: longitude / (degrees)  mesh(<Mesh object at 0x7f061555e790>) location(face)  <lazy>+bounds  shape(1766,)>,\n",
       " <MeshCoord: latitude / (degrees)  mesh(<Mesh object at 0x7f061555e790>) location(face)  <lazy>+bounds  shape(1766,)>)"
      ]
     },
     "execution_count": 12,
     "metadata": {},
     "output_type": "execute_result"
    }
   ],
   "source": [
    "mesh_coords = mesh.to_MeshCoords(location=\"face\")\n",
    "mesh_coords"
   ]
  },
  {
   "cell_type": "markdown",
   "id": "365ca473-5e01-4e3d-9731-6309362dd07a",
   "metadata": {},
   "source": [
    "---\n",
    "**Step 5d : (finally!!)  \n",
    "Use `Cube.remove_coord` and `Cube.add_aux_coord` to replace each AuxCoord with its corresponding `MeshCoord` from the previous step.** Note : for 'add_aux_coord', you also need to specify the relevant cube dimension(s) : See [`Cube.add_aux_coord` in the Iris docs](https://scitools-iris.readthedocs.io/en/latest/generated/api/iris/cube.html?highlight=add_aux_coord#iris.cube.Cube.add_aux_coord)  \n",
    ".. and show the cube .."
   ]
  },
  {
   "cell_type": "code",
   "execution_count": 13,
   "id": "184b796b-9e1e-40d3-8b88-d086c2093c58",
   "metadata": {},
   "outputs": [],
   "source": [
    "lfric_rh_region.remove_coord('longitude')"
   ]
  },
  {
   "cell_type": "code",
   "execution_count": 14,
   "id": "6ee58d1d-d67d-4241-8113-e260ae07c4bf",
   "metadata": {},
   "outputs": [],
   "source": [
    "lfric_rh_region.remove_coord('latitude')"
   ]
  },
  {
   "cell_type": "code",
   "execution_count": 15,
   "id": "4b1c7d7f-18b3-44f3-bf89-688e2e60658d",
   "metadata": {},
   "outputs": [
    {
     "data": {
      "text/html": [
       "\n",
       "<style>\n",
       "  a.iris {\n",
       "      text-decoration: none !important;\n",
       "  }\n",
       "  table.iris {\n",
       "      white-space: pre;\n",
       "      border: 1px solid;\n",
       "      border-color: #9c9c9c;\n",
       "      font-family: monaco, monospace;\n",
       "  }\n",
       "  th.iris {\n",
       "      background: #303f3f;\n",
       "      color: #e0e0e0;\n",
       "      border-left: 1px solid;\n",
       "      border-color: #9c9c9c;\n",
       "      font-size: 1.05em;\n",
       "      min-width: 50px;\n",
       "      max-width: 125px;\n",
       "  }\n",
       "  tr.iris :first-child {\n",
       "      border-right: 1px solid #9c9c9c !important;\n",
       "  }\n",
       "  td.iris-title {\n",
       "      background: #d5dcdf;\n",
       "      border-top: 1px solid #9c9c9c;\n",
       "      font-weight: bold;\n",
       "  }\n",
       "  .iris-word-cell {\n",
       "      text-align: left !important;\n",
       "      white-space: pre;\n",
       "  }\n",
       "  .iris-subheading-cell {\n",
       "      padding-left: 2em !important;\n",
       "  }\n",
       "  .iris-inclusion-cell {\n",
       "      padding-right: 1em !important;\n",
       "  }\n",
       "  .iris-panel-body {\n",
       "      padding-top: 0px;\n",
       "  }\n",
       "  .iris-panel-title {\n",
       "      padding-left: 3em;\n",
       "  }\n",
       "  .iris-panel-title {\n",
       "      margin-top: 7px;\n",
       "  }\n",
       "</style>\n",
       "<table class=\"iris\" id=\"139664108791120\">\n",
       "    <tr class=\"iris\">\n",
       "<th class=\"iris iris-word-cell\">Relative Humidity At Screen Level (1)</th>\n",
       "<th class=\"iris iris-word-cell\">--</th>\n",
       "</tr>\n",
       "    <tr class=\"iris\">\n",
       "<td class=\"iris-word-cell iris-subheading-cell\">Shape</td>\n",
       "<td class=\"iris iris-inclusion-cell\">1766</td>\n",
       "</tr>\n",
       "    <tr class=\"iris\">\n",
       "    <td class=\"iris-title iris-word-cell\">Mesh coordinates</td>\n",
       "    <td class=\"iris-title\"></td>\n",
       "</tr>\n",
       "<tr class=\"iris\">\n",
       "    <td class=\"iris-word-cell iris-subheading-cell\">\tlatitude</td>\n",
       "    <td class=\"iris-inclusion-cell\">x</td>\n",
       "</tr>\n",
       "<tr class=\"iris\">\n",
       "    <td class=\"iris-word-cell iris-subheading-cell\">\tlongitude</td>\n",
       "    <td class=\"iris-inclusion-cell\">x</td>\n",
       "</tr>\n",
       "<tr class=\"iris\">\n",
       "    <td class=\"iris-title iris-word-cell\">Mesh</td>\n",
       "    <td class=\"iris-title\"></td>\n",
       "</tr>\n",
       "<tr class=\"iris\">\n",
       "    <td class=\"iris-word-cell iris-subheading-cell\">\tname</td>\n",
       "    <td class=\"iris-word-cell\" colspan=\"1\">unknown</td>\n",
       "</tr>\n",
       "<tr class=\"iris\">\n",
       "    <td class=\"iris-word-cell iris-subheading-cell\">\tlocation</td>\n",
       "    <td class=\"iris-word-cell\" colspan=\"1\">face</td>\n",
       "</tr>\n",
       "<tr class=\"iris\">\n",
       "    <td class=\"iris-title iris-word-cell\">Scalar coordinates</td>\n",
       "    <td class=\"iris-title\"></td>\n",
       "</tr>\n",
       "<tr class=\"iris\">\n",
       "    <td class=\"iris-word-cell iris-subheading-cell\">\tforecast_period</td>\n",
       "    <td class=\"iris-word-cell\" colspan=\"1\">21600 seconds</td>\n",
       "</tr>\n",
       "<tr class=\"iris\">\n",
       "    <td class=\"iris-word-cell iris-subheading-cell\">\tforecast_reference_time</td>\n",
       "    <td class=\"iris-word-cell\" colspan=\"1\">2021-03-24 00:00:00</td>\n",
       "</tr>\n",
       "<tr class=\"iris\">\n",
       "    <td class=\"iris-word-cell iris-subheading-cell\">\ttime</td>\n",
       "    <td class=\"iris-word-cell\" colspan=\"1\">2021-03-24 06:00:00</td>\n",
       "</tr>\n",
       "<tr class=\"iris\">\n",
       "    <td class=\"iris-title iris-word-cell\">Cell methods</td>\n",
       "    <td class=\"iris-title\"></td>\n",
       "</tr>\n",
       "<tr class=\"iris\">\n",
       "    <td class=\"iris-word-cell iris-subheading-cell\">\tpoint</td>\n",
       "    <td class=\"iris-word-cell\" colspan=\"1\">time</td>\n",
       "</tr>\n",
       "<tr class=\"iris\">\n",
       "    <td class=\"iris-title iris-word-cell\">Attributes</td>\n",
       "    <td class=\"iris-title\"></td>\n",
       "</tr>\n",
       "<tr class=\"iris\">\n",
       "    <td class=\"iris-word-cell iris-subheading-cell\">\tConventions</td>\n",
       "    <td class=\"iris-word-cell\" colspan=\"1\">&#x27;CF-1.7&#x27;</td>\n",
       "</tr>\n",
       "<tr class=\"iris\">\n",
       "    <td class=\"iris-word-cell iris-subheading-cell\">\tdescription</td>\n",
       "    <td class=\"iris-word-cell\" colspan=\"1\">&#x27;Created by xios&#x27;</td>\n",
       "</tr>\n",
       "<tr class=\"iris\">\n",
       "    <td class=\"iris-word-cell iris-subheading-cell\">\tinterval_operation</td>\n",
       "    <td class=\"iris-word-cell\" colspan=\"1\">&#x27;6 h&#x27;</td>\n",
       "</tr>\n",
       "<tr class=\"iris\">\n",
       "    <td class=\"iris-word-cell iris-subheading-cell\">\tinterval_write</td>\n",
       "    <td class=\"iris-word-cell\" colspan=\"1\">&#x27;6 h&#x27;</td>\n",
       "</tr>\n",
       "<tr class=\"iris\">\n",
       "    <td class=\"iris-word-cell iris-subheading-cell\">\tonline_operation</td>\n",
       "    <td class=\"iris-word-cell\" colspan=\"1\">&#x27;instant&#x27;</td>\n",
       "</tr>\n",
       "<tr class=\"iris\">\n",
       "    <td class=\"iris-word-cell iris-subheading-cell\">\ttitle</td>\n",
       "    <td class=\"iris-word-cell\" colspan=\"1\">&#x27;Created by xios&#x27;</td>\n",
       "</tr>\n",
       "</table>\n",
       "        "
      ],
      "text/plain": [
       "<iris 'Cube' of relative_humidity_at_screen_level / (1) (-- : 1766)>"
      ]
     },
     "execution_count": 15,
     "metadata": {},
     "output_type": "execute_result"
    }
   ],
   "source": [
    "xco, yco = mesh_coords\n",
    "\n",
    "lfric_rh_region.add_aux_coord(xco, 0)\n",
    "lfric_rh_region.add_aux_coord(yco, 0)\n",
    "\n",
    "# Result : a regional Mesh-Cube with a subset of the original faces.\n",
    "lfric_rh_region"
   ]
  },
  {
   "cell_type": "markdown",
   "id": "98494731-0cb2-4747-b370-4a54ef3ae273",
   "metadata": {},
   "source": [
    "---\n",
    "\n",
    "**Lastly, plot this to see what we got.**  \n",
    "Use the techniques as above, converting with `pv_from_lfric_cube` and plotting.\n"
   ]
  },
  {
   "cell_type": "code",
   "execution_count": 16,
   "id": "8fbf4066-7806-4bcb-9f06-d8e0c1a9414d",
   "metadata": {},
   "outputs": [
    {
     "data": {
      "application/vnd.jupyter.widget-view+json": {
       "model_id": "cf339b52da204b76aafd518f2e4465a1",
       "version_major": 2,
       "version_minor": 0
      },
      "text/plain": [
       "ViewInteractiveWidget(height=768, layout=Layout(height='auto', width='100%'), width=1024)"
      ]
     },
     "metadata": {},
     "output_type": "display_data"
    }
   ],
   "source": [
    "pv = pv_from_lfric_cube(lfric_rh_region)\n",
    "pv.plot()"
   ]
  },
  {
   "cell_type": "markdown",
   "id": "5b1b5c9b-1835-4fb9-81cd-0217cab7bed4",
   "metadata": {},
   "source": [
    "----\n",
    "\n",
    "**Investigation:** It is useful to add some extra background information to make this more visible.\n",
    "\n",
    "As a minimum you can use `plotter.add_coastlines()`.\n",
    "\n",
    "Another useful one is `plotter.add_base_layer()`  \n",
    "**Question :  what does that actually do ?**"
   ]
  },
  {
   "cell_type": "code",
   "execution_count": 17,
   "id": "b2c8eccc-c1cb-4af2-97dd-4c362f8f4d35",
   "metadata": {},
   "outputs": [
    {
     "data": {
      "application/vnd.jupyter.widget-view+json": {
       "model_id": "4f05f9f649f147c295aa92330bd59398",
       "version_major": 2,
       "version_minor": 0
      },
      "text/plain": [
       "ViewInteractiveWidget(height=768, layout=Layout(height='auto', width='100%'), width=1024)"
      ]
     },
     "metadata": {},
     "output_type": "display_data"
    }
   ],
   "source": [
    "from geovista import GeoPlotter\n",
    "plotter = GeoPlotter()\n",
    "plotter.add_mesh(pv)\n",
    "plotter.add_coastlines()\n",
    "plotter.add_base_layer()\n",
    "plotter.show()"
   ]
  },
  {
   "cell_type": "code",
   "execution_count": null,
   "id": "bc933dc1-267f-4705-a6c9-07ca320f2f1d",
   "metadata": {},
   "outputs": [],
   "source": []
  }
 ],
 "metadata": {
  "kernelspec": {
   "display_name": "Python 3 (ipykernel)",
   "language": "python",
   "name": "python3"
  },
  "language_info": {
   "codemirror_mode": {
    "name": "ipython",
    "version": 3
   },
   "file_extension": ".py",
   "mimetype": "text/x-python",
   "name": "python",
   "nbconvert_exporter": "python",
   "pygments_lexer": "ipython3",
   "version": "3.9.16"
  }
 },
 "nbformat": 4,
 "nbformat_minor": 5
}
