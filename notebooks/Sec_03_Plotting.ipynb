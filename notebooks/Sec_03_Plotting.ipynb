{
 "cells": [
  {
   "cell_type": "markdown",
   "id": "b575ede6-8433-418a-bb04-949b0ea52abe",
   "metadata": {},
   "source": [
    "# Section 3: 3D visualisation and plotting\n",
    "\n",
    "This Section explains the use of 3D plotting, and introduces GeoVista and PyVista.\n"
   ]
  },
  {
   "cell_type": "markdown",
   "id": "db2305c4-585a-46eb-9bd5-a68215ea3f63",
   "metadata": {},
   "source": [
    "## 3D visualisation\n",
    "\n",
    "LFRic data can be plotted in a 3D viewer without the need of regridding. Regridding which allows traditional plotting is explained in [Section 04](./Sec_04_Regridding.ipynb). Software componenets used for 3D visualisation are [**VTK**](https://vtk.org/) (3D visualisation C++ library), [**PyVista**](https://pyvista.org/) (VTK for Python) and [**GeoVista**](https://github.com/bjlittle/geovista#readme). GeoVista adds geolocation for PyVista, including map projections, transforms, coastlines, geolocated data and regions. The GeoVista project page claims that \"GeoVista is to PyVista, as Cartopy is to Matplotlib\"."
   ]
  },
  {
   "cell_type": "markdown",
   "id": "c2385a63-6232-4c85-8e71-b3d51598e22a",
   "metadata": {},
   "source": [
    "### Geovista basic demo\n",
    "The following example is meant as a simple self-contained demonstration of interactive ocean data plotting with geovista. It uses the function `popup_2d_data_xx_yy` provided in [display_demo_routines.py](./display_demo_routines.py). \n"
   ]
  },
  {
   "cell_type": "code",
   "execution_count": null,
   "id": "3ee177e3-77f8-4226-a4e9-639c15e6167e",
   "metadata": {
    "tags": []
   },
   "outputs": [],
   "source": [
    "import geovista as gv\n",
    "from geovista.pantry import um_orca2\n",
    "from display_demo_routines import popup_2d_data_xx_yy\n",
    "\n",
    "example_data = um_orca2()\n",
    "popup_2d_data_xx_yy(example_data, \"ORCA test data\")"
   ]
  },
  {
   "cell_type": "markdown",
   "id": "6411b71e-c5ab-4520-aa6a-0e3a768d2f1e",
   "metadata": {},
   "source": [
    "## Using GeoVista/PyVista with Iris"
   ]
  },
  {
   "cell_type": "markdown",
   "id": "9b1b4171-a981-40d3-8c3c-d2b61667c18a",
   "metadata": {
    "incorrectly_encoded_metadata": "jp-MarkdownHeadingCollapsed=true",
    "tags": []
   },
   "source": [
    "There are currently no facilities in Iris for plotting unstructed cubes. To use PyVista for plotting we need to convert our unstructured LFRic data to a PyVista format. Some user code is needed to bridge between Iris and Geovista. Let's use the code in [testdata_fetching.py](./testdata_fetching.py) to load some LFRic test data with Iris first:\n"
   ]
  },
  {
   "cell_type": "code",
   "execution_count": null,
   "id": "8d03708e-f039-45fd-9fa2-e43e9fb2da32",
   "metadata": {},
   "outputs": [],
   "source": [
    "# Load a 2D 'relative_humidity' cube data, with tutorial utility function\n",
    "\n",
    "from testdata_fetching import lfric_rh_singletime_2d\n",
    "lfric_rh = lfric_rh_singletime_2d()\n",
    "#lfric_rh\n"
   ]
  },
  {
   "cell_type": "markdown",
   "id": "6bab81a6-97fe-40b7-bcfa-65b2e81541b2",
   "metadata": {},
   "source": [
    "### Convert an Iris cube to a PyVista PolyData object\n",
    "\n",
    "Next we convert the Iris cube `lfric_rh` to a PyVista [PolyData](https://docs.pyvista.org/api/core/_autosummary/pyvista.PolyData.html) object by using the utility function `pv_from_lfric_cube` provided in [pv_conversion.py](./pv_conversions.py):"
   ]
  },
  {
   "cell_type": "code",
   "execution_count": null,
   "id": "3ca979c0-6a31-4106-99cf-26bad4da3d2f",
   "metadata": {},
   "outputs": [],
   "source": [
    "from pv_conversions import pv_from_lfric_cube\n",
    "\n",
    "pv = pv_from_lfric_cube(lfric_rh)\n",
    "#print(pv)\n",
    "#pv"
   ]
  },
  {
   "cell_type": "markdown",
   "id": "d7a7d82a-eeeb-4d70-8a41-01df0ebdd8b9",
   "metadata": {},
   "source": [
    "Uncomment the last line above to print PolyData object `pv` (like cubes and  cube lists, these PolyData objects are provided with a specific visible for printing within the Jupyter notebooks)."
   ]
  },
  {
   "cell_type": "markdown",
   "id": "78700ada-cf22-4d11-a8ac-de7358da7a92",
   "metadata": {},
   "source": [
    "### Display instant 3D plot\n",
    "\n",
    "We can create an interactive plot of a `PolyData` object simply by calling its `.plot()` method. This plot is interactive. Try dragging to rotate, and the mouse scroll-wheel to zoom. To remove a plot output, in a notebook, use \"Clear Output\" from the \"Edit\" menu (or from right-click on the cell)."
   ]
  },
  {
   "cell_type": "code",
   "execution_count": null,
   "id": "7719d329-a72a-4d49-94b0-a2e189d84c87",
   "metadata": {},
   "outputs": [],
   "source": [
    "pv.plot()"
   ]
  },
  {
   "cell_type": "markdown",
   "id": "9a2c62bc-9b81-4b4a-87c5-2486f5f0d87f",
   "metadata": {},
   "source": [
    "### Create a plotter to display 3D visualisation of data from Iris\n",
    "\n",
    "There are many keywords available to the [`PolyData.plot()` method](https://docs.pyvista.org/api/plotting/_autosummary/pyvista.plot.html). But to achieve finer control we chose different way: Creating a GeoVista/PyVista `Plotter` object. The full process for this involves a few steps:"
   ]
  },
  {
   "cell_type": "markdown",
   "id": "e6c8b0c9-e026-449e-89f9-054e35c55d4b",
   "metadata": {},
   "source": [
    "#### Create a pyvista.Plotter \n",
    "We will create a [PyVista plotter](https://docs.pyvista.org/api/plotting/_autosummary/pyvista.Plotter.html#pyvista.Plotter) object to display things in 3D. Since our data is geo-located, we will use the special subtype `GeoPlotter`, from [GeoVista](https://github.com/bjlittle/geovista#philisophy). Various control arguments can be added to `GeoPlotter()` but none are required by default.\n"
   ]
  },
  {
   "cell_type": "code",
   "execution_count": null,
   "id": "9cfaa77a-cae2-49f0-9dcb-f0ff0d146867",
   "metadata": {
    "tags": []
   },
   "outputs": [],
   "source": [
    "from geovista import GeoPlotter\n",
    "plotter = GeoPlotter()"
   ]
  },
  {
   "cell_type": "markdown",
   "id": "be4c464d-9942-42f6-8cd8-fef4398aa24f",
   "metadata": {},
   "source": [
    "#### Call the plotter add_mesh function\n",
    "Next, we pass in the PolyData object `pv` to the [add_mesh](https://docs.pyvista.org/api/plotting/_autosummary/pyvista.BasePlotter.add_mesh.html#add-mesh) function. For now we don't need the object which this passes back, so we just discard it. There are lots of possible keywords, but none are required."
   ]
  },
  {
   "cell_type": "code",
   "execution_count": null,
   "id": "73305329-3509-4d70-aa7c-b901ef5d667f",
   "metadata": {},
   "outputs": [],
   "source": [
    "_ = plotter.add_mesh(pv)"
   ]
  },
  {
   "cell_type": "markdown",
   "id": "d98b11b4-b2f7-4276-a471-28d8b01e92cf",
   "metadata": {
    "tags": []
   },
   "source": [
    "#### Showing the plotter\n",
    "\n",
    "Calling [Plotter.show()](https://docs.pyvista.org/api/plotting/_autosummary/pyvista.Plotter.show.html#pyvista.Plotter.show) allows to display the plot.\n"
   ]
  },
  {
   "cell_type": "code",
   "execution_count": null,
   "id": "5d213f99-faf3-4f3a-a159-a021a9478539",
   "metadata": {},
   "outputs": [],
   "source": [
    "plotter.show()"
   ]
  },
  {
   "cell_type": "markdown",
   "id": "f7353ec4-56a9-4726-a7a3-3d2959410daa",
   "metadata": {},
   "source": [
    "VTK/PyVista doesn't use plot \"types\". Instead, you add meshes to a plotter and can subsequently control the presentation. By default, `plotter.show()` opens an interactive window. You can instead generate static output. In a notebook, you can generate static output with `jupyter_backend='static'`, in a Python session with `interactive=False`.\n"
   ]
  },
  {
   "cell_type": "markdown",
   "id": "745cd7fd-ba22-4fd6-8afb-15fc47da4d27",
   "metadata": {},
   "source": [
    "### Additional features\n",
    "\n",
    "The above hasn't yet actually added to what we can do with a simple`PolyData.plot()`. However, when you create your own GeoPlotter, you can do a lot more to control the view, e.g. using GeoPlotter methods [add_coastlines](https://github.com/bjlittle/geovista/blob/v0.1.1/src/geovista/geoplotter.py#L193-L215), [add_axes](https://docs.pyvista.org/api/plotting/_autosummary/pyvista.BasePlotter.add_axes.html#pyvista.BasePlotter.add_axes) and [add_base_layer](https://github.com/bjlittle/geovista/blob/v0.1.1/src/geovista/geoplotter.py#L122-L159). Coastlines and base_layer are GeoVista concepts, while axes are from PyVista. The `GeoPlotter` is simply a specialised version of a `PyVista.Plotter`.\n",
    "\n",
    "\n",
    "Have look into the source of the `demo_display_2d_xx_yy_data` routine in [display_demo_routines.py](./display_demo_routines.py). Another very useful resource are the GeoVista runnable [examples](https://github.com/bjlittle/geovista/tree/main/src/geovista/examples)"
   ]
  },
  {
   "cell_type": "markdown",
   "id": "e72cebbf-bb7a-418f-8df7-6b2b1b716f0f",
   "metadata": {},
   "source": [
    "### Controlling the 3D view\n",
    "\n",
    "Unlike 2D plotting, we can't simply set the view to show a given coordinate range.\n",
    "However, we can record and control the camera position of a plotter."
   ]
  },
  {
   "cell_type": "code",
   "execution_count": null,
   "id": "4c0b1428-8d9b-4b5f-87ee-a69a79941b3f",
   "metadata": {
    "tags": []
   },
   "outputs": [],
   "source": [
    "viewpoint = plotter.camera_position\n",
    "#print(viewpoint)"
   ]
  },
  {
   "cell_type": "markdown",
   "id": "383898bf-62cd-41cc-aa96-d576b8da4931",
   "metadata": {
    "tags": []
   },
   "source": [
    "Uncomment the last line above, rotate the previous plot with the mouse and explore how the shown viewpoint changes if you execute the cell again.\n",
    "\n",
    "Next we use a pre-loaded viewpoint to focus the position of the view to the middle East while also adding coastlines:"
   ]
  },
  {
   "cell_type": "code",
   "execution_count": null,
   "id": "495e0a32-08ce-427d-b8fa-e09a73ece89c",
   "metadata": {
    "tags": []
   },
   "outputs": [],
   "source": [
    "viewpoint = [\n",
    "    (1.1555926379084704, 1.1347715619001786, 1.1660979285179414),\n",
    "    (0.0, 0.0, 0.0),\n",
    "    (-0.3202752464164226, -0.5004192729867467, 0.80436578604284)\n",
    "]\n",
    "\n",
    "new_plotter = GeoPlotter()\n",
    "new_plotter.add_coastlines()\n",
    "new_plotter.add_mesh(pv, show_edges=True)\n",
    "new_plotter.camera_position = viewpoint\n",
    "new_plotter.show(jupyter_backend='static')"
   ]
  },
  {
   "cell_type": "markdown",
   "id": "5bd7f8c3-f1bf-4aeb-ad37-54ec6a295035",
   "metadata": {},
   "source": [
    "## Comparing UM and LFRic fields\n",
    "\n",
    "For comparing UM and LFRic fields we will now demonstarte how to use structured UM data with GeoVista so that we can compare plots.\n",
    "\n",
    "Let's start with loading some equivalent UM data. This is structured data,which we could quickly plot with an old-style Iris matplotlib plot.\n"
   ]
  },
  {
   "cell_type": "code",
   "execution_count": null,
   "id": "a4932d27-dfbd-4e58-a6d9-59fc3f8745e2",
   "metadata": {
    "tags": []
   },
   "outputs": [],
   "source": [
    "from testdata_fetching import um_rh_singletime_2d\n",
    "um_rh = um_rh_singletime_2d()\n",
    "um_rh.rename('UM Rh data')\n",
    "\n",
    "#um_rh\n",
    "\n",
    "#import iris.quickplot as qplt\n",
    "#qplt.pcolormesh(um_rh)"
   ]
  },
  {
   "cell_type": "markdown",
   "id": "c931cc17-f1ac-4677-9fbf-0348d88dbe85",
   "metadata": {},
   "source": [
    "### Convert the UM cube to a PolyData and plot with GeoVista\n",
    "\n",
    "To plot the structured UM Iris cube we convert it to a PolyData object with the `pv_from_um_cube` routine availble from [pv_conversions.py](./pv_conversions.py). Using .plot() we can then display the strcutured UM data. This is still traditional structured data on its original UM lat-lon grid. You can see this clearly by zooming in on one pole where the cells get very narrow."
   ]
  },
  {
   "cell_type": "code",
   "execution_count": null,
   "id": "d54b18fb-6fc3-49e9-a293-5820be7da3d9",
   "metadata": {
    "tags": []
   },
   "outputs": [],
   "source": [
    "from pv_conversions import pv_from_um_cube\n",
    "um_pv = pv_from_um_cube(um_rh)\n",
    "um_pv.plot()"
   ]
  },
  {
   "cell_type": "markdown",
   "id": "dedd186f-6d98-43ea-a229-525685a8c79a",
   "metadata": {},
   "source": [
    "## Side-by-side plotting: UM vs LFRic data\n",
    "\n",
    "Let's compare the UM and LFRic data fields by eye, in side-by-side 3D view. This is mostly a demonstration of what can be achieved so we hide the datails in the utility routine [display_demo_routines.side_by_side_plotter](./display_demo_routines.py)."
   ]
  },
  {
   "cell_type": "code",
   "execution_count": null,
   "id": "ac4ffbb4-d042-4b46-869a-4a3aec32f708",
   "metadata": {
    "tags": []
   },
   "outputs": [],
   "source": [
    "from display_demo_routines import side_by_side_plotter\n",
    "plt = side_by_side_plotter(pv, um_pv)\n",
    "plt.show()"
   ]
  },
  {
   "cell_type": "markdown",
   "id": "96177033-b331-4fb0-a374-f62414369c62",
   "metadata": {},
   "source": [
    "## Projected 2D plotting using GeoVista\n",
    "\n",
    "As GeoVista is concerned with geolocation, it also understands map projections. This makes it possible to put data on map, producing the more familiar style of 2D plots. \n",
    "\n",
    "The simplest solution is to specify a projection with the `crs` keyword in the GeoPlotter constructor call. The argument takes a [proj string](https://proj.org/usage/quickstart.html) to specify the [projection](https://proj.org/operations/projections/index.html). Here's an example, specifying an [Eckart-IV projection](https://proj.org/operations/projections/eck4.html):"
   ]
  },
  {
   "cell_type": "code",
   "execution_count": null,
   "id": "c2d56c7b-b80e-488d-8a74-fe57e5dbc567",
   "metadata": {},
   "outputs": [],
   "source": [
    "proj_string = '+proj=eck4'\n",
    "plotter = GeoPlotter(crs=proj_string)\n",
    "plotter.add_mesh(pv)\n",
    "# Note: it's important to view down the Z axis\n",
    "plotter.view_xy()\n",
    "plotter.show(jupyter_backend='static')"
   ]
  },
  {
   "cell_type": "markdown",
   "id": "79d5eb88-0b72-45bd-842a-cde3449b5c76",
   "metadata": {},
   "source": [
    "Note these \"2D plots\" are actually flat objects in a 3D space. If you make an interactive plot, you can rotate the panel. The support for projected plotting is still somewhat experimental. Possibly, not all projections will work correctly. Unfortunately, plotter.add_coastlines() does not yet work with projected plots.\n"
   ]
  },
  {
   "cell_type": "markdown",
   "id": "b7cb74d0-a572-4062-80f9-314676aa1740",
   "metadata": {},
   "source": [
    "## Next notebook\n",
    "See the next section: [04 - Regridding and UM data comparison](./Sec_04_Regridding.ipynb)"
   ]
  }
 ],
 "metadata": {
  "kernelspec": {
   "display_name": "Python 3 (ipykernel)",
   "language": "python",
   "name": "python3"
  },
  "language_info": {
   "codemirror_mode": {
    "name": "ipython",
    "version": 3
   },
   "file_extension": ".py",
   "mimetype": "text/x-python",
   "name": "python",
   "nbconvert_exporter": "python",
   "pygments_lexer": "ipython3",
   "version": "3.9.16"
  },
  "toc-showmarkdowntxt": false
 },
 "nbformat": 4,
 "nbformat_minor": 5
}
